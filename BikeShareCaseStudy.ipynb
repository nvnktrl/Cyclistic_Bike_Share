{
 "cells": [
  {
   "cell_type": "markdown",
   "id": "08018e2a",
   "metadata": {},
   "source": [
    "# INTRODUCTION"
   ]
  },
  {
   "cell_type": "markdown",
   "id": "8ab9578d",
   "metadata": {},
   "source": [
    "    Welcome to the Cyclistic bike-share analysis case study! In this case study, I have performed many real-world tasks, worked for a fictional company, Cyclistic, and met different characters and team members. In order to answer the key business questions, I had followed the steps of the data analysis process: Ask, Prepare, Process, Analyze, Share, and Act."
   ]
  },
  {
   "cell_type": "markdown",
   "id": "22321b07",
   "metadata": {},
   "source": [
    "# Business Objective"
   ]
  },
  {
   "cell_type": "markdown",
   "id": "1cae3a71",
   "metadata": {},
   "source": [
    "    To maximize the number of annual memberships by converting casual riders to annual members."
   ]
  },
  {
   "cell_type": "markdown",
   "id": "66d50e5c",
   "metadata": {},
   "source": [
    "# Prepare"
   ]
  },
  {
   "cell_type": "markdown",
   "id": "5f29c5a9",
   "metadata": {},
   "source": [
    "    I haved used Cyclistic’s previous 12 months of historical trip data to analyze and identify trends.\n",
    "    I have Considered Datasets from Nov 2020 till Oct 2021."
   ]
  },
  {
   "cell_type": "markdown",
   "id": "70244fa5",
   "metadata": {},
   "source": [
    "# Process"
   ]
  },
  {
   "cell_type": "markdown",
   "id": "3413d7cc",
   "metadata": {},
   "source": [
    "    I have used Python language for Data processing and cleaning as It is more easier and accessible.\n",
    "    Some of the important libraries I have used are as follows:\n",
    "    Pandas, NumPy, Matplotlib, Seaborn and Datetime."
   ]
  },
  {
   "cell_type": "code",
   "execution_count": null,
   "id": "9fcdcb95",
   "metadata": {},
   "outputs": [],
   "source": [
    "#Importing Libraries\n",
    "\n",
    "import pandas as pd\n",
    "import numpy as np\n",
    "import datetime\n",
    "import matplotlib.pyplot as plt\n",
    "import seaborn as sns"
   ]
  },
  {
   "cell_type": "code",
   "execution_count": 2,
   "id": "bda8ec11",
   "metadata": {},
   "outputs": [],
   "source": [
    "# Importing the files\n",
    "\n",
    "file_1 = pd.read_csv(r\"C:\\Users\\91810\\Desktop\\Nvn\\Case Study\\Case Study 1\\202011-divvy-tripdata.csv\")\n",
    "file_2 = pd.read_csv(r\"C:\\Users\\91810\\Desktop\\Nvn\\Case Study\\Case Study 1\\202012-divvy-tripdata.csv\")\n",
    "file_3 = pd.read_csv(r\"C:\\Users\\91810\\Desktop\\Nvn\\Case Study\\Case Study 1\\202101-divvy-tripdata.csv\")\n",
    "file_4 = pd.read_csv(r\"C:\\Users\\91810\\Desktop\\Nvn\\Case Study\\Case Study 1\\202102-divvy-tripdata.csv\")\n",
    "file_5 = pd.read_csv(r\"C:\\Users\\91810\\Desktop\\Nvn\\Case Study\\Case Study 1\\202103-divvy-tripdata.csv\")\n",
    "file_6 = pd.read_csv(r\"C:\\Users\\91810\\Desktop\\Nvn\\Case Study\\Case Study 1\\202104-divvy-tripdata.csv\")\n",
    "file_7 = pd.read_csv(r\"C:\\Users\\91810\\Desktop\\Nvn\\Case Study\\Case Study 1\\202105-divvy-tripdata.csv\")\n",
    "file_8 = pd.read_csv(r\"C:\\Users\\91810\\Desktop\\Nvn\\Case Study\\Case Study 1\\202106-divvy-tripdata.csv\")\n",
    "file_9 = pd.read_csv(r\"C:\\Users\\91810\\Desktop\\Nvn\\Case Study\\Case Study 1\\202107-divvy-tripdata.csv\")\n",
    "file_10 = pd.read_csv(r\"C:\\Users\\91810\\Desktop\\Nvn\\Case Study\\Case Study 1\\202108-divvy-tripdata.csv\")\n",
    "file_11 = pd.read_csv(r\"C:\\Users\\91810\\Desktop\\Nvn\\Case Study\\Case Study 1\\202109-divvy-tripdata.csv\")\n",
    "file_12 = pd.read_csv(r\"C:\\Users\\91810\\Desktop\\Nvn\\Case Study\\Case Study 1\\202110-divvy-tripdata.csv\")"
   ]
  },
  {
   "cell_type": "code",
   "execution_count": 3,
   "id": "c0024bb3",
   "metadata": {},
   "outputs": [],
   "source": [
    "# Merging all the dataframes into a single dataframe\n",
    "\n",
    "all_dfs = [file_1, file_2 , file_3, file_4, file_5, file_6, file_7, file_8, file_9, file_10, file_11, file_12]\n",
    "case_file = pd.concat(all_dfs)\n",
    "df = case_file"
   ]
  },
  {
   "cell_type": "code",
   "execution_count": 5,
   "id": "8dc85c73",
   "metadata": {},
   "outputs": [
    {
     "data": {
      "text/html": [
       "<div>\n",
       "<style scoped>\n",
       "    .dataframe tbody tr th:only-of-type {\n",
       "        vertical-align: middle;\n",
       "    }\n",
       "\n",
       "    .dataframe tbody tr th {\n",
       "        vertical-align: top;\n",
       "    }\n",
       "\n",
       "    .dataframe thead th {\n",
       "        text-align: right;\n",
       "    }\n",
       "</style>\n",
       "<table border=\"1\" class=\"dataframe\">\n",
       "  <thead>\n",
       "    <tr style=\"text-align: right;\">\n",
       "      <th></th>\n",
       "      <th>ride_id</th>\n",
       "      <th>rideable_type</th>\n",
       "      <th>started_at</th>\n",
       "      <th>ended_at</th>\n",
       "      <th>start_station_name</th>\n",
       "      <th>start_station_id</th>\n",
       "      <th>end_station_name</th>\n",
       "      <th>end_station_id</th>\n",
       "      <th>start_lat</th>\n",
       "      <th>start_lng</th>\n",
       "      <th>end_lat</th>\n",
       "      <th>end_lng</th>\n",
       "      <th>member_casual</th>\n",
       "    </tr>\n",
       "  </thead>\n",
       "  <tbody>\n",
       "    <tr>\n",
       "      <th>0</th>\n",
       "      <td>BD0A6FF6FFF9B921</td>\n",
       "      <td>electric_bike</td>\n",
       "      <td>2020-11-01 13:36:00</td>\n",
       "      <td>2020-11-01 13:45:40</td>\n",
       "      <td>Dearborn St &amp; Erie St</td>\n",
       "      <td>110.0</td>\n",
       "      <td>St. Clair St &amp; Erie St</td>\n",
       "      <td>211.0</td>\n",
       "      <td>41.894177</td>\n",
       "      <td>-87.629127</td>\n",
       "      <td>41.894434</td>\n",
       "      <td>-87.623379</td>\n",
       "      <td>casual</td>\n",
       "    </tr>\n",
       "    <tr>\n",
       "      <th>1</th>\n",
       "      <td>96A7A7A4BDE4F82D</td>\n",
       "      <td>electric_bike</td>\n",
       "      <td>2020-11-01 10:03:26</td>\n",
       "      <td>2020-11-01 10:14:45</td>\n",
       "      <td>Franklin St &amp; Illinois St</td>\n",
       "      <td>672.0</td>\n",
       "      <td>Noble St &amp; Milwaukee Ave</td>\n",
       "      <td>29.0</td>\n",
       "      <td>41.890959</td>\n",
       "      <td>-87.635343</td>\n",
       "      <td>41.900675</td>\n",
       "      <td>-87.662480</td>\n",
       "      <td>casual</td>\n",
       "    </tr>\n",
       "    <tr>\n",
       "      <th>2</th>\n",
       "      <td>C61526D06582BDC5</td>\n",
       "      <td>electric_bike</td>\n",
       "      <td>2020-11-01 00:34:05</td>\n",
       "      <td>2020-11-01 01:03:06</td>\n",
       "      <td>Lake Shore Dr &amp; Monroe St</td>\n",
       "      <td>76.0</td>\n",
       "      <td>Federal St &amp; Polk St</td>\n",
       "      <td>41.0</td>\n",
       "      <td>41.880983</td>\n",
       "      <td>-87.616754</td>\n",
       "      <td>41.872054</td>\n",
       "      <td>-87.629550</td>\n",
       "      <td>casual</td>\n",
       "    </tr>\n",
       "    <tr>\n",
       "      <th>3</th>\n",
       "      <td>E533E89C32080B9E</td>\n",
       "      <td>electric_bike</td>\n",
       "      <td>2020-11-01 00:45:16</td>\n",
       "      <td>2020-11-01 00:54:31</td>\n",
       "      <td>Leavitt St &amp; Chicago Ave</td>\n",
       "      <td>659.0</td>\n",
       "      <td>Stave St &amp; Armitage Ave</td>\n",
       "      <td>185.0</td>\n",
       "      <td>41.895499</td>\n",
       "      <td>-87.682013</td>\n",
       "      <td>41.917744</td>\n",
       "      <td>-87.691392</td>\n",
       "      <td>casual</td>\n",
       "    </tr>\n",
       "    <tr>\n",
       "      <th>4</th>\n",
       "      <td>1C9F4EF18C168C60</td>\n",
       "      <td>electric_bike</td>\n",
       "      <td>2020-11-01 15:43:25</td>\n",
       "      <td>2020-11-01 16:16:52</td>\n",
       "      <td>Buckingham Fountain</td>\n",
       "      <td>2.0</td>\n",
       "      <td>Buckingham Fountain</td>\n",
       "      <td>2.0</td>\n",
       "      <td>41.876497</td>\n",
       "      <td>-87.620358</td>\n",
       "      <td>41.876448</td>\n",
       "      <td>-87.620338</td>\n",
       "      <td>casual</td>\n",
       "    </tr>\n",
       "    <tr>\n",
       "      <th>...</th>\n",
       "      <td>...</td>\n",
       "      <td>...</td>\n",
       "      <td>...</td>\n",
       "      <td>...</td>\n",
       "      <td>...</td>\n",
       "      <td>...</td>\n",
       "      <td>...</td>\n",
       "      <td>...</td>\n",
       "      <td>...</td>\n",
       "      <td>...</td>\n",
       "      <td>...</td>\n",
       "      <td>...</td>\n",
       "      <td>...</td>\n",
       "    </tr>\n",
       "    <tr>\n",
       "      <th>631221</th>\n",
       "      <td>BA077FDD42DABF12</td>\n",
       "      <td>classic_bike</td>\n",
       "      <td>2021-10-14 21:45:05</td>\n",
       "      <td>2021-10-14 22:07:25</td>\n",
       "      <td>Franklin St &amp; Chicago Ave</td>\n",
       "      <td>13017</td>\n",
       "      <td>Michigan Ave &amp; 14th St</td>\n",
       "      <td>TA1307000124</td>\n",
       "      <td>41.896747</td>\n",
       "      <td>-87.635668</td>\n",
       "      <td>41.864059</td>\n",
       "      <td>-87.623727</td>\n",
       "      <td>casual</td>\n",
       "    </tr>\n",
       "    <tr>\n",
       "      <th>631222</th>\n",
       "      <td>B7D99254E798AA6B</td>\n",
       "      <td>classic_bike</td>\n",
       "      <td>2021-10-02 15:28:28</td>\n",
       "      <td>2021-10-02 15:51:02</td>\n",
       "      <td>Streeter Dr &amp; Grand Ave</td>\n",
       "      <td>13022</td>\n",
       "      <td>Michigan Ave &amp; 14th St</td>\n",
       "      <td>TA1307000124</td>\n",
       "      <td>41.892278</td>\n",
       "      <td>-87.612043</td>\n",
       "      <td>41.864059</td>\n",
       "      <td>-87.623727</td>\n",
       "      <td>casual</td>\n",
       "    </tr>\n",
       "    <tr>\n",
       "      <th>631223</th>\n",
       "      <td>BCCFD66DA466400F</td>\n",
       "      <td>electric_bike</td>\n",
       "      <td>2021-10-08 16:47:10</td>\n",
       "      <td>2021-10-08 16:52:43</td>\n",
       "      <td>Calumet Ave &amp; 21st St</td>\n",
       "      <td>15546</td>\n",
       "      <td>Michigan Ave &amp; 14th St</td>\n",
       "      <td>TA1307000124</td>\n",
       "      <td>41.854055</td>\n",
       "      <td>-87.619187</td>\n",
       "      <td>41.864009</td>\n",
       "      <td>-87.623601</td>\n",
       "      <td>member</td>\n",
       "    </tr>\n",
       "    <tr>\n",
       "      <th>631224</th>\n",
       "      <td>623E0F6F50CDD6E4</td>\n",
       "      <td>classic_bike</td>\n",
       "      <td>2021-10-08 07:49:47</td>\n",
       "      <td>2021-10-08 07:55:15</td>\n",
       "      <td>Calumet Ave &amp; 21st St</td>\n",
       "      <td>15546</td>\n",
       "      <td>Michigan Ave &amp; 14th St</td>\n",
       "      <td>TA1307000124</td>\n",
       "      <td>41.854184</td>\n",
       "      <td>-87.619154</td>\n",
       "      <td>41.864059</td>\n",
       "      <td>-87.623727</td>\n",
       "      <td>member</td>\n",
       "    </tr>\n",
       "    <tr>\n",
       "      <th>631225</th>\n",
       "      <td>83FA6AC52B7B7A7B</td>\n",
       "      <td>classic_bike</td>\n",
       "      <td>2021-10-02 12:55:45</td>\n",
       "      <td>2021-10-02 13:21:10</td>\n",
       "      <td>Winthrop Ave &amp; Lawrence Ave</td>\n",
       "      <td>TA1308000021</td>\n",
       "      <td>Sheffield Ave &amp; Fullerton Ave</td>\n",
       "      <td>TA1306000016</td>\n",
       "      <td>41.968812</td>\n",
       "      <td>-87.657659</td>\n",
       "      <td>41.925602</td>\n",
       "      <td>-87.653708</td>\n",
       "      <td>member</td>\n",
       "    </tr>\n",
       "  </tbody>\n",
       "</table>\n",
       "<p>5378834 rows × 13 columns</p>\n",
       "</div>"
      ],
      "text/plain": [
       "                 ride_id  rideable_type           started_at  \\\n",
       "0       BD0A6FF6FFF9B921  electric_bike  2020-11-01 13:36:00   \n",
       "1       96A7A7A4BDE4F82D  electric_bike  2020-11-01 10:03:26   \n",
       "2       C61526D06582BDC5  electric_bike  2020-11-01 00:34:05   \n",
       "3       E533E89C32080B9E  electric_bike  2020-11-01 00:45:16   \n",
       "4       1C9F4EF18C168C60  electric_bike  2020-11-01 15:43:25   \n",
       "...                  ...            ...                  ...   \n",
       "631221  BA077FDD42DABF12   classic_bike  2021-10-14 21:45:05   \n",
       "631222  B7D99254E798AA6B   classic_bike  2021-10-02 15:28:28   \n",
       "631223  BCCFD66DA466400F  electric_bike  2021-10-08 16:47:10   \n",
       "631224  623E0F6F50CDD6E4   classic_bike  2021-10-08 07:49:47   \n",
       "631225  83FA6AC52B7B7A7B   classic_bike  2021-10-02 12:55:45   \n",
       "\n",
       "                   ended_at           start_station_name start_station_id  \\\n",
       "0       2020-11-01 13:45:40        Dearborn St & Erie St            110.0   \n",
       "1       2020-11-01 10:14:45    Franklin St & Illinois St            672.0   \n",
       "2       2020-11-01 01:03:06    Lake Shore Dr & Monroe St             76.0   \n",
       "3       2020-11-01 00:54:31     Leavitt St & Chicago Ave            659.0   \n",
       "4       2020-11-01 16:16:52          Buckingham Fountain              2.0   \n",
       "...                     ...                          ...              ...   \n",
       "631221  2021-10-14 22:07:25    Franklin St & Chicago Ave            13017   \n",
       "631222  2021-10-02 15:51:02      Streeter Dr & Grand Ave            13022   \n",
       "631223  2021-10-08 16:52:43        Calumet Ave & 21st St            15546   \n",
       "631224  2021-10-08 07:55:15        Calumet Ave & 21st St            15546   \n",
       "631225  2021-10-02 13:21:10  Winthrop Ave & Lawrence Ave     TA1308000021   \n",
       "\n",
       "                     end_station_name end_station_id  start_lat  start_lng  \\\n",
       "0              St. Clair St & Erie St          211.0  41.894177 -87.629127   \n",
       "1            Noble St & Milwaukee Ave           29.0  41.890959 -87.635343   \n",
       "2                Federal St & Polk St           41.0  41.880983 -87.616754   \n",
       "3             Stave St & Armitage Ave          185.0  41.895499 -87.682013   \n",
       "4                 Buckingham Fountain            2.0  41.876497 -87.620358   \n",
       "...                               ...            ...        ...        ...   \n",
       "631221         Michigan Ave & 14th St   TA1307000124  41.896747 -87.635668   \n",
       "631222         Michigan Ave & 14th St   TA1307000124  41.892278 -87.612043   \n",
       "631223         Michigan Ave & 14th St   TA1307000124  41.854055 -87.619187   \n",
       "631224         Michigan Ave & 14th St   TA1307000124  41.854184 -87.619154   \n",
       "631225  Sheffield Ave & Fullerton Ave   TA1306000016  41.968812 -87.657659   \n",
       "\n",
       "          end_lat    end_lng member_casual  \n",
       "0       41.894434 -87.623379        casual  \n",
       "1       41.900675 -87.662480        casual  \n",
       "2       41.872054 -87.629550        casual  \n",
       "3       41.917744 -87.691392        casual  \n",
       "4       41.876448 -87.620338        casual  \n",
       "...           ...        ...           ...  \n",
       "631221  41.864059 -87.623727        casual  \n",
       "631222  41.864059 -87.623727        casual  \n",
       "631223  41.864009 -87.623601        member  \n",
       "631224  41.864059 -87.623727        member  \n",
       "631225  41.925602 -87.653708        member  \n",
       "\n",
       "[5378834 rows x 13 columns]"
      ]
     },
     "execution_count": 5,
     "metadata": {},
     "output_type": "execute_result"
    }
   ],
   "source": [
    "# Reading the merged dataframe\n",
    "\n",
    "case_file_5000 = df\n",
    "case_file_5000"
   ]
  },
  {
   "cell_type": "code",
   "execution_count": 6,
   "id": "0519d571",
   "metadata": {},
   "outputs": [
    {
     "name": "stdout",
     "output_type": "stream",
     "text": [
      "<class 'pandas.core.frame.DataFrame'>\n",
      "Int64Index: 5378834 entries, 0 to 631225\n",
      "Data columns (total 13 columns):\n",
      " #   Column              Dtype  \n",
      "---  ------              -----  \n",
      " 0   ride_id             object \n",
      " 1   rideable_type       object \n",
      " 2   started_at          object \n",
      " 3   ended_at            object \n",
      " 4   start_station_name  object \n",
      " 5   start_station_id    object \n",
      " 6   end_station_name    object \n",
      " 7   end_station_id      object \n",
      " 8   start_lat           float64\n",
      " 9   start_lng           float64\n",
      " 10  end_lat             float64\n",
      " 11  end_lng             float64\n",
      " 12  member_casual       object \n",
      "dtypes: float64(4), object(9)\n",
      "memory usage: 574.5+ MB\n"
     ]
    }
   ],
   "source": [
    "# Getting information about the dataframe\n",
    "\n",
    "case_file_5000.info()"
   ]
  },
  {
   "cell_type": "code",
   "execution_count": 7,
   "id": "da803705",
   "metadata": {},
   "outputs": [],
   "source": [
    "# Convert object data type of start_time and end_time columns into datetime data type\n",
    "\n",
    "case_file_5000[\"start_time\"] = pd.to_datetime(case_file_5000[\"started_at\"])\n",
    "case_file_5000[\"end_time\"] = pd.to_datetime(case_file_5000[\"ended_at\"])"
   ]
  },
  {
   "cell_type": "code",
   "execution_count": 8,
   "id": "079ab4bc",
   "metadata": {},
   "outputs": [
    {
     "data": {
      "text/plain": [
       "0        0 days 00:09:40\n",
       "1        0 days 00:11:19\n",
       "2        0 days 00:29:01\n",
       "3        0 days 00:09:15\n",
       "4        0 days 00:33:27\n",
       "               ...      \n",
       "631221   0 days 00:22:20\n",
       "631222   0 days 00:22:34\n",
       "631223   0 days 00:05:33\n",
       "631224   0 days 00:05:28\n",
       "631225   0 days 00:25:25\n",
       "Name: ride_length, Length: 5378834, dtype: timedelta64[ns]"
      ]
     },
     "execution_count": 8,
     "metadata": {},
     "output_type": "execute_result"
    }
   ],
   "source": [
    "#Creating New column - ride_length (ended_at - started_at) to calculate total ride length\n",
    "\n",
    "case_file_5000[\"ride_length\"] = case_file_5000[\"end_time\"] - case_file_5000[\"start_time\"]\n",
    "case_file_5000[\"ride_length\"]"
   ]
  },
  {
   "cell_type": "code",
   "execution_count": 9,
   "id": "f4dc0f3b",
   "metadata": {},
   "outputs": [
    {
     "name": "stdout",
     "output_type": "stream",
     "text": [
      "<class 'pandas.core.frame.DataFrame'>\n",
      "Int64Index: 5378834 entries, 0 to 631225\n",
      "Data columns (total 16 columns):\n",
      " #   Column              Dtype          \n",
      "---  ------              -----          \n",
      " 0   ride_id             object         \n",
      " 1   rideable_type       object         \n",
      " 2   started_at          object         \n",
      " 3   ended_at            object         \n",
      " 4   start_station_name  object         \n",
      " 5   start_station_id    object         \n",
      " 6   end_station_name    object         \n",
      " 7   end_station_id      object         \n",
      " 8   start_lat           float64        \n",
      " 9   start_lng           float64        \n",
      " 10  end_lat             float64        \n",
      " 11  end_lng             float64        \n",
      " 12  member_casual       object         \n",
      " 13  start_time          datetime64[ns] \n",
      " 14  end_time            datetime64[ns] \n",
      " 15  ride_length         timedelta64[ns]\n",
      "dtypes: datetime64[ns](2), float64(4), object(9), timedelta64[ns](1)\n",
      "memory usage: 697.6+ MB\n"
     ]
    }
   ],
   "source": [
    "# To get the updated information about the changes made in the data type of dataframe.\n",
    "\n",
    "case_file_5000.info()"
   ]
  },
  {
   "cell_type": "code",
   "execution_count": 10,
   "id": "5bba0138",
   "metadata": {},
   "outputs": [
    {
     "data": {
      "text/plain": [
       "0         2020-11-01\n",
       "1         2020-11-01\n",
       "2         2020-11-01\n",
       "3         2020-11-01\n",
       "4         2020-11-01\n",
       "             ...    \n",
       "631221    2021-10-14\n",
       "631222    2021-10-02\n",
       "631223    2021-10-08\n",
       "631224    2021-10-08\n",
       "631225    2021-10-02\n",
       "Name: start_date, Length: 5378834, dtype: object"
      ]
     },
     "execution_count": 10,
     "metadata": {},
     "output_type": "execute_result"
    }
   ],
   "source": [
    "# Splitting and extracting the date from \"started_at\" column\n",
    "\n",
    "case_file_5000[\"start_date\"] = [i.split(\" \")[0] for i in case_file_5000[\"started_at\"]]\n",
    "case_file_5000[\"start_date\"]"
   ]
  },
  {
   "cell_type": "code",
   "execution_count": 11,
   "id": "a01e8bc3",
   "metadata": {},
   "outputs": [],
   "source": [
    "# Converting start_date into datetime data type\n",
    "\n",
    "case_file_5000[\"start_date\"] = pd.to_datetime(case_file_5000[\"start_date\"])\n"
   ]
  },
  {
   "cell_type": "code",
   "execution_count": 12,
   "id": "0e37c15f",
   "metadata": {
    "scrolled": true
   },
   "outputs": [
    {
     "data": {
      "text/plain": [
       "0         6\n",
       "1         6\n",
       "2         6\n",
       "3         6\n",
       "4         6\n",
       "         ..\n",
       "631221    3\n",
       "631222    5\n",
       "631223    4\n",
       "631224    4\n",
       "631225    5\n",
       "Name: week_day, Length: 5378834, dtype: int64"
      ]
     },
     "execution_count": 12,
     "metadata": {},
     "output_type": "execute_result"
    }
   ],
   "source": [
    "# Finding the weekday of the start_date\n",
    "\n",
    "case_file_5000['week_day'] = case_file_5000[\"start_date\"].dt.weekday\n",
    "case_file_5000['week_day']"
   ]
  },
  {
   "cell_type": "code",
   "execution_count": 13,
   "id": "c752ffde",
   "metadata": {},
   "outputs": [
    {
     "data": {
      "text/plain": [
       "0          Saturday\n",
       "1          Saturday\n",
       "2          Saturday\n",
       "3          Saturday\n",
       "4          Saturday\n",
       "            ...    \n",
       "631221    Wednesday\n",
       "631222       Friday\n",
       "631223     Thursday\n",
       "631224     Thursday\n",
       "631225       Friday\n",
       "Name: week_day, Length: 5378834, dtype: object"
      ]
     },
     "execution_count": 13,
     "metadata": {},
     "output_type": "execute_result"
    }
   ],
   "source": [
    "# Converting weekday (int) values into weekday\n",
    "\n",
    "dict1 = {0: \"Sunday\", 1: \"Monday\", 2: \"Tuesday\", 3: \"Wednesday\", 4: \"Thursday\", 5: \"Friday\", 6: \"Saturday\"}\n",
    "case_file_5000['week_day'] = case_file_5000['week_day'].apply(lambda y: dict1[y])\n",
    "case_file_5000['week_day']"
   ]
  },
  {
   "cell_type": "code",
   "execution_count": 14,
   "id": "f7803046",
   "metadata": {},
   "outputs": [],
   "source": [
    "# Sorting the dataframe by start date in ascending order\n",
    "\n",
    "case_file_5000.sort_values(by=['started_at'], inplace=True, ascending=True)"
   ]
  },
  {
   "cell_type": "code",
   "execution_count": 15,
   "id": "a33b7ad4",
   "metadata": {},
   "outputs": [],
   "source": [
    "# Dropping all rows with any NaN values\n",
    "\n",
    "case_file_5000_cleaned = case_file_5000.dropna()"
   ]
  },
  {
   "cell_type": "code",
   "execution_count": 16,
   "id": "b4e9bfb2",
   "metadata": {},
   "outputs": [],
   "source": [
    "# Saving the cleaned file for further transformation of data\n",
    "\n",
    "case_file_5000_cleaned.to_csv('cleaned.csv')"
   ]
  },
  {
   "cell_type": "code",
   "execution_count": 17,
   "id": "6c4af03f",
   "metadata": {},
   "outputs": [
    {
     "name": "stderr",
     "output_type": "stream",
     "text": [
      "C:\\Users\\91810\\anaconda3\\lib\\site-packages\\IPython\\core\\interactiveshell.py:3444: DtypeWarning: Columns (6,8) have mixed types.Specify dtype option on import or set low_memory=False.\n",
      "  exec(code_obj, self.user_global_ns, self.user_ns)\n"
     ]
    }
   ],
   "source": [
    "# Importing or Reading  the cleaned_file\n",
    "\n",
    "cleaned_file = pd.read_csv(r\"C:\\Users\\91810\\cleaned.csv\")"
   ]
  },
  {
   "cell_type": "code",
   "execution_count": 18,
   "id": "31e2f5d1",
   "metadata": {},
   "outputs": [
    {
     "data": {
      "text/html": [
       "<div>\n",
       "<style scoped>\n",
       "    .dataframe tbody tr th:only-of-type {\n",
       "        vertical-align: middle;\n",
       "    }\n",
       "\n",
       "    .dataframe tbody tr th {\n",
       "        vertical-align: top;\n",
       "    }\n",
       "\n",
       "    .dataframe thead th {\n",
       "        text-align: right;\n",
       "    }\n",
       "</style>\n",
       "<table border=\"1\" class=\"dataframe\">\n",
       "  <thead>\n",
       "    <tr style=\"text-align: right;\">\n",
       "      <th></th>\n",
       "      <th>Unnamed: 0</th>\n",
       "      <th>ride_id</th>\n",
       "      <th>rideable_type</th>\n",
       "      <th>started_at</th>\n",
       "      <th>ended_at</th>\n",
       "      <th>start_station_name</th>\n",
       "      <th>start_station_id</th>\n",
       "      <th>end_station_name</th>\n",
       "      <th>end_station_id</th>\n",
       "      <th>start_lat</th>\n",
       "      <th>start_lng</th>\n",
       "      <th>end_lat</th>\n",
       "      <th>end_lng</th>\n",
       "      <th>member_casual</th>\n",
       "      <th>start_time</th>\n",
       "      <th>end_time</th>\n",
       "      <th>ride_length</th>\n",
       "      <th>start_date</th>\n",
       "      <th>week_day</th>\n",
       "    </tr>\n",
       "  </thead>\n",
       "  <tbody>\n",
       "    <tr>\n",
       "      <th>0</th>\n",
       "      <td>200181</td>\n",
       "      <td>D0C1A65AFC859916</td>\n",
       "      <td>docked_bike</td>\n",
       "      <td>2020-11-01 00:00:08</td>\n",
       "      <td>2020-11-01 00:35:08</td>\n",
       "      <td>Broadway &amp; Barry Ave</td>\n",
       "      <td>300.0</td>\n",
       "      <td>Broadway &amp; Barry Ave</td>\n",
       "      <td>300.0</td>\n",
       "      <td>41.937582</td>\n",
       "      <td>-87.644098</td>\n",
       "      <td>41.937582</td>\n",
       "      <td>-87.644098</td>\n",
       "      <td>casual</td>\n",
       "      <td>2020-11-01 00:00:08</td>\n",
       "      <td>2020-11-01 00:35:08</td>\n",
       "      <td>0 days 00:35:00</td>\n",
       "      <td>2020-11-01 00:00:00</td>\n",
       "      <td>Saturday</td>\n",
       "    </tr>\n",
       "    <tr>\n",
       "      <th>1</th>\n",
       "      <td>75236</td>\n",
       "      <td>985AD418D8ED316C</td>\n",
       "      <td>docked_bike</td>\n",
       "      <td>2020-11-01 00:00:14</td>\n",
       "      <td>2020-11-01 00:02:20</td>\n",
       "      <td>Desplaines St &amp; Kinzie St</td>\n",
       "      <td>56.0</td>\n",
       "      <td>Desplaines St &amp; Randolph St</td>\n",
       "      <td>96.0</td>\n",
       "      <td>41.888716</td>\n",
       "      <td>-87.644447</td>\n",
       "      <td>41.884616</td>\n",
       "      <td>-87.644571</td>\n",
       "      <td>member</td>\n",
       "      <td>2020-11-01 00:00:14</td>\n",
       "      <td>2020-11-01 00:02:20</td>\n",
       "      <td>0 days 00:02:06</td>\n",
       "      <td>2020-11-01 00:00:00</td>\n",
       "      <td>Saturday</td>\n",
       "    </tr>\n",
       "    <tr>\n",
       "      <th>2</th>\n",
       "      <td>113167</td>\n",
       "      <td>AB459A840CF1BBF8</td>\n",
       "      <td>docked_bike</td>\n",
       "      <td>2020-11-01 00:00:22</td>\n",
       "      <td>2020-11-01 00:06:21</td>\n",
       "      <td>Broadway &amp; Cornelia Ave</td>\n",
       "      <td>303.0</td>\n",
       "      <td>Sheridan Rd &amp; Irving Park Rd</td>\n",
       "      <td>240.0</td>\n",
       "      <td>41.945529</td>\n",
       "      <td>-87.646439</td>\n",
       "      <td>41.954245</td>\n",
       "      <td>-87.654406</td>\n",
       "      <td>member</td>\n",
       "      <td>2020-11-01 00:00:22</td>\n",
       "      <td>2020-11-01 00:06:21</td>\n",
       "      <td>0 days 00:05:59</td>\n",
       "      <td>2020-11-01 00:00:00</td>\n",
       "      <td>Saturday</td>\n",
       "    </tr>\n",
       "    <tr>\n",
       "      <th>3</th>\n",
       "      <td>16234</td>\n",
       "      <td>5239202FF2A38305</td>\n",
       "      <td>electric_bike</td>\n",
       "      <td>2020-11-01 00:00:52</td>\n",
       "      <td>2020-11-01 00:04:45</td>\n",
       "      <td>Wells St &amp; Evergreen Ave</td>\n",
       "      <td>291.0</td>\n",
       "      <td>Franklin St &amp; Chicago Ave</td>\n",
       "      <td>31.0</td>\n",
       "      <td>41.906758</td>\n",
       "      <td>-87.635097</td>\n",
       "      <td>41.896919</td>\n",
       "      <td>-87.635699</td>\n",
       "      <td>casual</td>\n",
       "      <td>2020-11-01 00:00:52</td>\n",
       "      <td>2020-11-01 00:04:45</td>\n",
       "      <td>0 days 00:03:53</td>\n",
       "      <td>2020-11-01 00:00:00</td>\n",
       "      <td>Saturday</td>\n",
       "    </tr>\n",
       "    <tr>\n",
       "      <th>4</th>\n",
       "      <td>142827</td>\n",
       "      <td>587849ED1D5F0CBA</td>\n",
       "      <td>electric_bike</td>\n",
       "      <td>2020-11-01 00:00:57</td>\n",
       "      <td>2020-11-01 00:04:24</td>\n",
       "      <td>Wells St &amp; Evergreen Ave</td>\n",
       "      <td>291.0</td>\n",
       "      <td>Franklin St &amp; Chicago Ave</td>\n",
       "      <td>31.0</td>\n",
       "      <td>41.906695</td>\n",
       "      <td>-87.635068</td>\n",
       "      <td>41.897116</td>\n",
       "      <td>-87.635687</td>\n",
       "      <td>member</td>\n",
       "      <td>2020-11-01 00:00:57</td>\n",
       "      <td>2020-11-01 00:04:24</td>\n",
       "      <td>0 days 00:03:27</td>\n",
       "      <td>2020-11-01 00:00:00</td>\n",
       "      <td>Saturday</td>\n",
       "    </tr>\n",
       "    <tr>\n",
       "      <th>...</th>\n",
       "      <td>...</td>\n",
       "      <td>...</td>\n",
       "      <td>...</td>\n",
       "      <td>...</td>\n",
       "      <td>...</td>\n",
       "      <td>...</td>\n",
       "      <td>...</td>\n",
       "      <td>...</td>\n",
       "      <td>...</td>\n",
       "      <td>...</td>\n",
       "      <td>...</td>\n",
       "      <td>...</td>\n",
       "      <td>...</td>\n",
       "      <td>...</td>\n",
       "      <td>...</td>\n",
       "      <td>...</td>\n",
       "      <td>...</td>\n",
       "      <td>...</td>\n",
       "      <td>...</td>\n",
       "    </tr>\n",
       "    <tr>\n",
       "      <th>4492722</th>\n",
       "      <td>347529</td>\n",
       "      <td>A1E4C6EFCB4FC31A</td>\n",
       "      <td>electric_bike</td>\n",
       "      <td>2021-10-31 23:56:19</td>\n",
       "      <td>2021-10-31 23:58:43</td>\n",
       "      <td>Green St &amp; Madison St</td>\n",
       "      <td>TA1307000120</td>\n",
       "      <td>Green St &amp; Madison St</td>\n",
       "      <td>TA1307000120</td>\n",
       "      <td>41.881883</td>\n",
       "      <td>-87.648741</td>\n",
       "      <td>41.881853</td>\n",
       "      <td>-87.648724</td>\n",
       "      <td>casual</td>\n",
       "      <td>2021-10-31 23:56:19</td>\n",
       "      <td>2021-10-31 23:58:43</td>\n",
       "      <td>0 days 00:02:24</td>\n",
       "      <td>2021-10-31 00:00:00</td>\n",
       "      <td>Saturday</td>\n",
       "    </tr>\n",
       "    <tr>\n",
       "      <th>4492723</th>\n",
       "      <td>355247</td>\n",
       "      <td>CBE12A4C090145C2</td>\n",
       "      <td>electric_bike</td>\n",
       "      <td>2021-10-31 23:56:53</td>\n",
       "      <td>2021-10-31 23:57:34</td>\n",
       "      <td>Southport Ave &amp; Clybourn Ave</td>\n",
       "      <td>TA1309000030</td>\n",
       "      <td>Southport Ave &amp; Clybourn Ave</td>\n",
       "      <td>TA1309000030</td>\n",
       "      <td>41.920761</td>\n",
       "      <td>-87.663751</td>\n",
       "      <td>41.920788</td>\n",
       "      <td>-87.663706</td>\n",
       "      <td>member</td>\n",
       "      <td>2021-10-31 23:56:53</td>\n",
       "      <td>2021-10-31 23:57:34</td>\n",
       "      <td>0 days 00:00:41</td>\n",
       "      <td>2021-10-31 00:00:00</td>\n",
       "      <td>Saturday</td>\n",
       "    </tr>\n",
       "    <tr>\n",
       "      <th>4492724</th>\n",
       "      <td>282413</td>\n",
       "      <td>8879093FD05F3103</td>\n",
       "      <td>electric_bike</td>\n",
       "      <td>2021-10-31 23:57:29</td>\n",
       "      <td>2021-11-01 00:16:09</td>\n",
       "      <td>Racine Ave &amp; 18th St</td>\n",
       "      <td>13164</td>\n",
       "      <td>Damen Ave &amp; Division St</td>\n",
       "      <td>13136</td>\n",
       "      <td>41.858236</td>\n",
       "      <td>-87.656434</td>\n",
       "      <td>41.903255</td>\n",
       "      <td>-87.678465</td>\n",
       "      <td>member</td>\n",
       "      <td>2021-10-31 23:57:29</td>\n",
       "      <td>2021-11-01 00:16:09</td>\n",
       "      <td>0 days 00:18:40</td>\n",
       "      <td>2021-10-31 00:00:00</td>\n",
       "      <td>Saturday</td>\n",
       "    </tr>\n",
       "    <tr>\n",
       "      <th>4492725</th>\n",
       "      <td>192232</td>\n",
       "      <td>F4562744AE0DA40F</td>\n",
       "      <td>classic_bike</td>\n",
       "      <td>2021-10-31 23:57:33</td>\n",
       "      <td>2021-11-01 00:02:27</td>\n",
       "      <td>Ellis Ave &amp; 60th St</td>\n",
       "      <td>KA1503000014</td>\n",
       "      <td>University Ave &amp; 57th St</td>\n",
       "      <td>KA1503000071</td>\n",
       "      <td>41.785097</td>\n",
       "      <td>-87.601073</td>\n",
       "      <td>41.791478</td>\n",
       "      <td>-87.599861</td>\n",
       "      <td>casual</td>\n",
       "      <td>2021-10-31 23:57:33</td>\n",
       "      <td>2021-11-01 00:02:27</td>\n",
       "      <td>0 days 00:04:54</td>\n",
       "      <td>2021-10-31 00:00:00</td>\n",
       "      <td>Saturday</td>\n",
       "    </tr>\n",
       "    <tr>\n",
       "      <th>4492726</th>\n",
       "      <td>78885</td>\n",
       "      <td>BA8AC6004C2E7F9A</td>\n",
       "      <td>electric_bike</td>\n",
       "      <td>2021-10-31 23:58:15</td>\n",
       "      <td>2021-11-01 00:09:22</td>\n",
       "      <td>Ashland Ave &amp; Lake St</td>\n",
       "      <td>13073</td>\n",
       "      <td>Ashland Ave &amp; Division St</td>\n",
       "      <td>13061</td>\n",
       "      <td>41.885894</td>\n",
       "      <td>-87.667159</td>\n",
       "      <td>41.903380</td>\n",
       "      <td>-87.668061</td>\n",
       "      <td>member</td>\n",
       "      <td>2021-10-31 23:58:15</td>\n",
       "      <td>2021-11-01 00:09:22</td>\n",
       "      <td>0 days 00:11:07</td>\n",
       "      <td>2021-10-31 00:00:00</td>\n",
       "      <td>Saturday</td>\n",
       "    </tr>\n",
       "  </tbody>\n",
       "</table>\n",
       "<p>4492727 rows × 19 columns</p>\n",
       "</div>"
      ],
      "text/plain": [
       "         Unnamed: 0           ride_id  rideable_type           started_at  \\\n",
       "0            200181  D0C1A65AFC859916    docked_bike  2020-11-01 00:00:08   \n",
       "1             75236  985AD418D8ED316C    docked_bike  2020-11-01 00:00:14   \n",
       "2            113167  AB459A840CF1BBF8    docked_bike  2020-11-01 00:00:22   \n",
       "3             16234  5239202FF2A38305  electric_bike  2020-11-01 00:00:52   \n",
       "4            142827  587849ED1D5F0CBA  electric_bike  2020-11-01 00:00:57   \n",
       "...             ...               ...            ...                  ...   \n",
       "4492722      347529  A1E4C6EFCB4FC31A  electric_bike  2021-10-31 23:56:19   \n",
       "4492723      355247  CBE12A4C090145C2  electric_bike  2021-10-31 23:56:53   \n",
       "4492724      282413  8879093FD05F3103  electric_bike  2021-10-31 23:57:29   \n",
       "4492725      192232  F4562744AE0DA40F   classic_bike  2021-10-31 23:57:33   \n",
       "4492726       78885  BA8AC6004C2E7F9A  electric_bike  2021-10-31 23:58:15   \n",
       "\n",
       "                    ended_at            start_station_name start_station_id  \\\n",
       "0        2020-11-01 00:35:08          Broadway & Barry Ave            300.0   \n",
       "1        2020-11-01 00:02:20     Desplaines St & Kinzie St             56.0   \n",
       "2        2020-11-01 00:06:21       Broadway & Cornelia Ave            303.0   \n",
       "3        2020-11-01 00:04:45      Wells St & Evergreen Ave            291.0   \n",
       "4        2020-11-01 00:04:24      Wells St & Evergreen Ave            291.0   \n",
       "...                      ...                           ...              ...   \n",
       "4492722  2021-10-31 23:58:43         Green St & Madison St     TA1307000120   \n",
       "4492723  2021-10-31 23:57:34  Southport Ave & Clybourn Ave     TA1309000030   \n",
       "4492724  2021-11-01 00:16:09          Racine Ave & 18th St            13164   \n",
       "4492725  2021-11-01 00:02:27           Ellis Ave & 60th St     KA1503000014   \n",
       "4492726  2021-11-01 00:09:22         Ashland Ave & Lake St            13073   \n",
       "\n",
       "                     end_station_name end_station_id  start_lat  start_lng  \\\n",
       "0                Broadway & Barry Ave          300.0  41.937582 -87.644098   \n",
       "1         Desplaines St & Randolph St           96.0  41.888716 -87.644447   \n",
       "2        Sheridan Rd & Irving Park Rd          240.0  41.945529 -87.646439   \n",
       "3           Franklin St & Chicago Ave           31.0  41.906758 -87.635097   \n",
       "4           Franklin St & Chicago Ave           31.0  41.906695 -87.635068   \n",
       "...                               ...            ...        ...        ...   \n",
       "4492722         Green St & Madison St   TA1307000120  41.881883 -87.648741   \n",
       "4492723  Southport Ave & Clybourn Ave   TA1309000030  41.920761 -87.663751   \n",
       "4492724       Damen Ave & Division St          13136  41.858236 -87.656434   \n",
       "4492725      University Ave & 57th St   KA1503000071  41.785097 -87.601073   \n",
       "4492726     Ashland Ave & Division St          13061  41.885894 -87.667159   \n",
       "\n",
       "           end_lat    end_lng member_casual           start_time  \\\n",
       "0        41.937582 -87.644098        casual  2020-11-01 00:00:08   \n",
       "1        41.884616 -87.644571        member  2020-11-01 00:00:14   \n",
       "2        41.954245 -87.654406        member  2020-11-01 00:00:22   \n",
       "3        41.896919 -87.635699        casual  2020-11-01 00:00:52   \n",
       "4        41.897116 -87.635687        member  2020-11-01 00:00:57   \n",
       "...            ...        ...           ...                  ...   \n",
       "4492722  41.881853 -87.648724        casual  2021-10-31 23:56:19   \n",
       "4492723  41.920788 -87.663706        member  2021-10-31 23:56:53   \n",
       "4492724  41.903255 -87.678465        member  2021-10-31 23:57:29   \n",
       "4492725  41.791478 -87.599861        casual  2021-10-31 23:57:33   \n",
       "4492726  41.903380 -87.668061        member  2021-10-31 23:58:15   \n",
       "\n",
       "                    end_time      ride_length           start_date  week_day  \n",
       "0        2020-11-01 00:35:08  0 days 00:35:00  2020-11-01 00:00:00  Saturday  \n",
       "1        2020-11-01 00:02:20  0 days 00:02:06  2020-11-01 00:00:00  Saturday  \n",
       "2        2020-11-01 00:06:21  0 days 00:05:59  2020-11-01 00:00:00  Saturday  \n",
       "3        2020-11-01 00:04:45  0 days 00:03:53  2020-11-01 00:00:00  Saturday  \n",
       "4        2020-11-01 00:04:24  0 days 00:03:27  2020-11-01 00:00:00  Saturday  \n",
       "...                      ...              ...                  ...       ...  \n",
       "4492722  2021-10-31 23:58:43  0 days 00:02:24  2021-10-31 00:00:00  Saturday  \n",
       "4492723  2021-10-31 23:57:34  0 days 00:00:41  2021-10-31 00:00:00  Saturday  \n",
       "4492724  2021-11-01 00:16:09  0 days 00:18:40  2021-10-31 00:00:00  Saturday  \n",
       "4492725  2021-11-01 00:02:27  0 days 00:04:54  2021-10-31 00:00:00  Saturday  \n",
       "4492726  2021-11-01 00:09:22  0 days 00:11:07  2021-10-31 00:00:00  Saturday  \n",
       "\n",
       "[4492727 rows x 19 columns]"
      ]
     },
     "execution_count": 18,
     "metadata": {},
     "output_type": "execute_result"
    }
   ],
   "source": [
    "# Printing cleaned_file\n",
    "\n",
    "cleaned_file"
   ]
  },
  {
   "cell_type": "code",
   "execution_count": 20,
   "id": "d072c2f5",
   "metadata": {},
   "outputs": [
    {
     "data": {
      "text/plain": [
       "0          0.000000\n",
       "1          0.004102\n",
       "2          0.011809\n",
       "3          0.009857\n",
       "4          0.009599\n",
       "             ...   \n",
       "4492722    0.000034\n",
       "4492723    0.000053\n",
       "4492724    0.050120\n",
       "4492725    0.006495\n",
       "4492726    0.017509\n",
       "Name: distance, Length: 4492727, dtype: float64"
      ]
     },
     "execution_count": 20,
     "metadata": {},
     "output_type": "execute_result"
    }
   ],
   "source": [
    "# Calculating euclidean distance between start and end point.\n",
    "\n",
    "cleaned_file[\"x\"] = (cleaned_file[\"end_lat\"] - cleaned_file[\"start_lat\"])**2\n",
    "cleaned_file[\"y\"] = (cleaned_file[\"end_lng\"] - cleaned_file[\"start_lng\"])**2\n",
    "cleaned_file[\"distance\"] = (cleaned_file[\"x\"] + cleaned_file[\"y\"])**(1/2)\n",
    "cleaned_file[\"distance\"]"
   ]
  },
  {
   "cell_type": "code",
   "execution_count": 21,
   "id": "b96107df",
   "metadata": {},
   "outputs": [],
   "source": [
    "# Exctracting year and month from start_date column\n",
    "\n",
    "cleaned_file['year'] = pd.DatetimeIndex(cleaned_file[\"start_date\"]).year\n",
    "cleaned_file['month'] = pd.DatetimeIndex(cleaned_file[\"start_date\"]).month"
   ]
  },
  {
   "cell_type": "code",
   "execution_count": 22,
   "id": "8c3cd372",
   "metadata": {},
   "outputs": [],
   "source": [
    "# Converting object datatype to timedelta\n",
    "\n",
    "cleaned_file[\"ride_len\"] = pd.to_timedelta(cleaned_file[\"ride_length\"])"
   ]
  },
  {
   "cell_type": "code",
   "execution_count": 23,
   "id": "7479f0ac",
   "metadata": {},
   "outputs": [
    {
     "data": {
      "text/html": [
       "<div>\n",
       "<style scoped>\n",
       "    .dataframe tbody tr th:only-of-type {\n",
       "        vertical-align: middle;\n",
       "    }\n",
       "\n",
       "    .dataframe tbody tr th {\n",
       "        vertical-align: top;\n",
       "    }\n",
       "\n",
       "    .dataframe thead th {\n",
       "        text-align: right;\n",
       "    }\n",
       "</style>\n",
       "<table border=\"1\" class=\"dataframe\">\n",
       "  <thead>\n",
       "    <tr style=\"text-align: right;\">\n",
       "      <th></th>\n",
       "      <th>Unnamed: 0</th>\n",
       "      <th>ride_id</th>\n",
       "      <th>rideable_type</th>\n",
       "      <th>started_at</th>\n",
       "      <th>ended_at</th>\n",
       "      <th>start_station_name</th>\n",
       "      <th>start_station_id</th>\n",
       "      <th>end_station_name</th>\n",
       "      <th>end_station_id</th>\n",
       "      <th>start_lat</th>\n",
       "      <th>...</th>\n",
       "      <th>end_time</th>\n",
       "      <th>ride_length</th>\n",
       "      <th>start_date</th>\n",
       "      <th>week_day</th>\n",
       "      <th>x</th>\n",
       "      <th>y</th>\n",
       "      <th>distance</th>\n",
       "      <th>year</th>\n",
       "      <th>month</th>\n",
       "      <th>ride_len</th>\n",
       "    </tr>\n",
       "  </thead>\n",
       "  <tbody>\n",
       "    <tr>\n",
       "      <th>0</th>\n",
       "      <td>200181</td>\n",
       "      <td>D0C1A65AFC859916</td>\n",
       "      <td>docked_bike</td>\n",
       "      <td>2020-11-01 00:00:08</td>\n",
       "      <td>2020-11-01 00:35:08</td>\n",
       "      <td>Broadway &amp; Barry Ave</td>\n",
       "      <td>300.0</td>\n",
       "      <td>Broadway &amp; Barry Ave</td>\n",
       "      <td>300.0</td>\n",
       "      <td>41.937582</td>\n",
       "      <td>...</td>\n",
       "      <td>2020-11-01 00:35:08</td>\n",
       "      <td>0 days 00:35:00</td>\n",
       "      <td>2020-11-01 00:00:00</td>\n",
       "      <td>Saturday</td>\n",
       "      <td>0.000000e+00</td>\n",
       "      <td>0.000000e+00</td>\n",
       "      <td>0.000000</td>\n",
       "      <td>2020</td>\n",
       "      <td>11</td>\n",
       "      <td>0 days 00:35:00</td>\n",
       "    </tr>\n",
       "    <tr>\n",
       "      <th>1</th>\n",
       "      <td>75236</td>\n",
       "      <td>985AD418D8ED316C</td>\n",
       "      <td>docked_bike</td>\n",
       "      <td>2020-11-01 00:00:14</td>\n",
       "      <td>2020-11-01 00:02:20</td>\n",
       "      <td>Desplaines St &amp; Kinzie St</td>\n",
       "      <td>56.0</td>\n",
       "      <td>Desplaines St &amp; Randolph St</td>\n",
       "      <td>96.0</td>\n",
       "      <td>41.888716</td>\n",
       "      <td>...</td>\n",
       "      <td>2020-11-01 00:02:20</td>\n",
       "      <td>0 days 00:02:06</td>\n",
       "      <td>2020-11-01 00:00:00</td>\n",
       "      <td>Saturday</td>\n",
       "      <td>1.680845e-05</td>\n",
       "      <td>1.527323e-08</td>\n",
       "      <td>0.004102</td>\n",
       "      <td>2020</td>\n",
       "      <td>11</td>\n",
       "      <td>0 days 00:02:06</td>\n",
       "    </tr>\n",
       "    <tr>\n",
       "      <th>2</th>\n",
       "      <td>113167</td>\n",
       "      <td>AB459A840CF1BBF8</td>\n",
       "      <td>docked_bike</td>\n",
       "      <td>2020-11-01 00:00:22</td>\n",
       "      <td>2020-11-01 00:06:21</td>\n",
       "      <td>Broadway &amp; Cornelia Ave</td>\n",
       "      <td>303.0</td>\n",
       "      <td>Sheridan Rd &amp; Irving Park Rd</td>\n",
       "      <td>240.0</td>\n",
       "      <td>41.945529</td>\n",
       "      <td>...</td>\n",
       "      <td>2020-11-01 00:06:21</td>\n",
       "      <td>0 days 00:05:59</td>\n",
       "      <td>2020-11-01 00:00:00</td>\n",
       "      <td>Saturday</td>\n",
       "      <td>7.596866e-05</td>\n",
       "      <td>6.347309e-05</td>\n",
       "      <td>0.011809</td>\n",
       "      <td>2020</td>\n",
       "      <td>11</td>\n",
       "      <td>0 days 00:05:59</td>\n",
       "    </tr>\n",
       "    <tr>\n",
       "      <th>3</th>\n",
       "      <td>16234</td>\n",
       "      <td>5239202FF2A38305</td>\n",
       "      <td>electric_bike</td>\n",
       "      <td>2020-11-01 00:00:52</td>\n",
       "      <td>2020-11-01 00:04:45</td>\n",
       "      <td>Wells St &amp; Evergreen Ave</td>\n",
       "      <td>291.0</td>\n",
       "      <td>Franklin St &amp; Chicago Ave</td>\n",
       "      <td>31.0</td>\n",
       "      <td>41.906758</td>\n",
       "      <td>...</td>\n",
       "      <td>2020-11-01 00:04:45</td>\n",
       "      <td>0 days 00:03:53</td>\n",
       "      <td>2020-11-01 00:00:00</td>\n",
       "      <td>Saturday</td>\n",
       "      <td>9.679280e-05</td>\n",
       "      <td>3.622034e-07</td>\n",
       "      <td>0.009857</td>\n",
       "      <td>2020</td>\n",
       "      <td>11</td>\n",
       "      <td>0 days 00:03:53</td>\n",
       "    </tr>\n",
       "    <tr>\n",
       "      <th>4</th>\n",
       "      <td>142827</td>\n",
       "      <td>587849ED1D5F0CBA</td>\n",
       "      <td>electric_bike</td>\n",
       "      <td>2020-11-01 00:00:57</td>\n",
       "      <td>2020-11-01 00:04:24</td>\n",
       "      <td>Wells St &amp; Evergreen Ave</td>\n",
       "      <td>291.0</td>\n",
       "      <td>Franklin St &amp; Chicago Ave</td>\n",
       "      <td>31.0</td>\n",
       "      <td>41.906695</td>\n",
       "      <td>...</td>\n",
       "      <td>2020-11-01 00:04:24</td>\n",
       "      <td>0 days 00:03:27</td>\n",
       "      <td>2020-11-01 00:00:00</td>\n",
       "      <td>Saturday</td>\n",
       "      <td>9.176363e-05</td>\n",
       "      <td>3.821300e-07</td>\n",
       "      <td>0.009599</td>\n",
       "      <td>2020</td>\n",
       "      <td>11</td>\n",
       "      <td>0 days 00:03:27</td>\n",
       "    </tr>\n",
       "    <tr>\n",
       "      <th>...</th>\n",
       "      <td>...</td>\n",
       "      <td>...</td>\n",
       "      <td>...</td>\n",
       "      <td>...</td>\n",
       "      <td>...</td>\n",
       "      <td>...</td>\n",
       "      <td>...</td>\n",
       "      <td>...</td>\n",
       "      <td>...</td>\n",
       "      <td>...</td>\n",
       "      <td>...</td>\n",
       "      <td>...</td>\n",
       "      <td>...</td>\n",
       "      <td>...</td>\n",
       "      <td>...</td>\n",
       "      <td>...</td>\n",
       "      <td>...</td>\n",
       "      <td>...</td>\n",
       "      <td>...</td>\n",
       "      <td>...</td>\n",
       "      <td>...</td>\n",
       "    </tr>\n",
       "    <tr>\n",
       "      <th>4492722</th>\n",
       "      <td>347529</td>\n",
       "      <td>A1E4C6EFCB4FC31A</td>\n",
       "      <td>electric_bike</td>\n",
       "      <td>2021-10-31 23:56:19</td>\n",
       "      <td>2021-10-31 23:58:43</td>\n",
       "      <td>Green St &amp; Madison St</td>\n",
       "      <td>TA1307000120</td>\n",
       "      <td>Green St &amp; Madison St</td>\n",
       "      <td>TA1307000120</td>\n",
       "      <td>41.881883</td>\n",
       "      <td>...</td>\n",
       "      <td>2021-10-31 23:58:43</td>\n",
       "      <td>0 days 00:02:24</td>\n",
       "      <td>2021-10-31 00:00:00</td>\n",
       "      <td>Saturday</td>\n",
       "      <td>8.900278e-10</td>\n",
       "      <td>2.722500e-10</td>\n",
       "      <td>0.000034</td>\n",
       "      <td>2021</td>\n",
       "      <td>10</td>\n",
       "      <td>0 days 00:02:24</td>\n",
       "    </tr>\n",
       "    <tr>\n",
       "      <th>4492723</th>\n",
       "      <td>355247</td>\n",
       "      <td>CBE12A4C090145C2</td>\n",
       "      <td>electric_bike</td>\n",
       "      <td>2021-10-31 23:56:53</td>\n",
       "      <td>2021-10-31 23:57:34</td>\n",
       "      <td>Southport Ave &amp; Clybourn Ave</td>\n",
       "      <td>TA1309000030</td>\n",
       "      <td>Southport Ave &amp; Clybourn Ave</td>\n",
       "      <td>TA1309000030</td>\n",
       "      <td>41.920761</td>\n",
       "      <td>...</td>\n",
       "      <td>2021-10-31 23:57:34</td>\n",
       "      <td>0 days 00:00:41</td>\n",
       "      <td>2021-10-31 00:00:00</td>\n",
       "      <td>Saturday</td>\n",
       "      <td>7.380278e-10</td>\n",
       "      <td>2.025000e-09</td>\n",
       "      <td>0.000053</td>\n",
       "      <td>2021</td>\n",
       "      <td>10</td>\n",
       "      <td>0 days 00:00:41</td>\n",
       "    </tr>\n",
       "    <tr>\n",
       "      <th>4492724</th>\n",
       "      <td>282413</td>\n",
       "      <td>8879093FD05F3103</td>\n",
       "      <td>electric_bike</td>\n",
       "      <td>2021-10-31 23:57:29</td>\n",
       "      <td>2021-11-01 00:16:09</td>\n",
       "      <td>Racine Ave &amp; 18th St</td>\n",
       "      <td>13164</td>\n",
       "      <td>Damen Ave &amp; Division St</td>\n",
       "      <td>13136</td>\n",
       "      <td>41.858236</td>\n",
       "      <td>...</td>\n",
       "      <td>2021-11-01 00:16:09</td>\n",
       "      <td>0 days 00:18:40</td>\n",
       "      <td>2021-10-31 00:00:00</td>\n",
       "      <td>Saturday</td>\n",
       "      <td>2.026665e-03</td>\n",
       "      <td>4.853282e-04</td>\n",
       "      <td>0.050120</td>\n",
       "      <td>2021</td>\n",
       "      <td>10</td>\n",
       "      <td>0 days 00:18:40</td>\n",
       "    </tr>\n",
       "    <tr>\n",
       "      <th>4492725</th>\n",
       "      <td>192232</td>\n",
       "      <td>F4562744AE0DA40F</td>\n",
       "      <td>classic_bike</td>\n",
       "      <td>2021-10-31 23:57:33</td>\n",
       "      <td>2021-11-01 00:02:27</td>\n",
       "      <td>Ellis Ave &amp; 60th St</td>\n",
       "      <td>KA1503000014</td>\n",
       "      <td>University Ave &amp; 57th St</td>\n",
       "      <td>KA1503000071</td>\n",
       "      <td>41.785097</td>\n",
       "      <td>...</td>\n",
       "      <td>2021-11-01 00:02:27</td>\n",
       "      <td>0 days 00:04:54</td>\n",
       "      <td>2021-10-31 00:00:00</td>\n",
       "      <td>Saturday</td>\n",
       "      <td>4.071529e-05</td>\n",
       "      <td>1.468364e-06</td>\n",
       "      <td>0.006495</td>\n",
       "      <td>2021</td>\n",
       "      <td>10</td>\n",
       "      <td>0 days 00:04:54</td>\n",
       "    </tr>\n",
       "    <tr>\n",
       "      <th>4492726</th>\n",
       "      <td>78885</td>\n",
       "      <td>BA8AC6004C2E7F9A</td>\n",
       "      <td>electric_bike</td>\n",
       "      <td>2021-10-31 23:58:15</td>\n",
       "      <td>2021-11-01 00:09:22</td>\n",
       "      <td>Ashland Ave &amp; Lake St</td>\n",
       "      <td>13073</td>\n",
       "      <td>Ashland Ave &amp; Division St</td>\n",
       "      <td>13061</td>\n",
       "      <td>41.885894</td>\n",
       "      <td>...</td>\n",
       "      <td>2021-11-01 00:09:22</td>\n",
       "      <td>0 days 00:11:07</td>\n",
       "      <td>2021-10-31 00:00:00</td>\n",
       "      <td>Saturday</td>\n",
       "      <td>3.057485e-04</td>\n",
       "      <td>8.145062e-07</td>\n",
       "      <td>0.017509</td>\n",
       "      <td>2021</td>\n",
       "      <td>10</td>\n",
       "      <td>0 days 00:11:07</td>\n",
       "    </tr>\n",
       "  </tbody>\n",
       "</table>\n",
       "<p>4492727 rows × 25 columns</p>\n",
       "</div>"
      ],
      "text/plain": [
       "         Unnamed: 0           ride_id  rideable_type           started_at  \\\n",
       "0            200181  D0C1A65AFC859916    docked_bike  2020-11-01 00:00:08   \n",
       "1             75236  985AD418D8ED316C    docked_bike  2020-11-01 00:00:14   \n",
       "2            113167  AB459A840CF1BBF8    docked_bike  2020-11-01 00:00:22   \n",
       "3             16234  5239202FF2A38305  electric_bike  2020-11-01 00:00:52   \n",
       "4            142827  587849ED1D5F0CBA  electric_bike  2020-11-01 00:00:57   \n",
       "...             ...               ...            ...                  ...   \n",
       "4492722      347529  A1E4C6EFCB4FC31A  electric_bike  2021-10-31 23:56:19   \n",
       "4492723      355247  CBE12A4C090145C2  electric_bike  2021-10-31 23:56:53   \n",
       "4492724      282413  8879093FD05F3103  electric_bike  2021-10-31 23:57:29   \n",
       "4492725      192232  F4562744AE0DA40F   classic_bike  2021-10-31 23:57:33   \n",
       "4492726       78885  BA8AC6004C2E7F9A  electric_bike  2021-10-31 23:58:15   \n",
       "\n",
       "                    ended_at            start_station_name start_station_id  \\\n",
       "0        2020-11-01 00:35:08          Broadway & Barry Ave            300.0   \n",
       "1        2020-11-01 00:02:20     Desplaines St & Kinzie St             56.0   \n",
       "2        2020-11-01 00:06:21       Broadway & Cornelia Ave            303.0   \n",
       "3        2020-11-01 00:04:45      Wells St & Evergreen Ave            291.0   \n",
       "4        2020-11-01 00:04:24      Wells St & Evergreen Ave            291.0   \n",
       "...                      ...                           ...              ...   \n",
       "4492722  2021-10-31 23:58:43         Green St & Madison St     TA1307000120   \n",
       "4492723  2021-10-31 23:57:34  Southport Ave & Clybourn Ave     TA1309000030   \n",
       "4492724  2021-11-01 00:16:09          Racine Ave & 18th St            13164   \n",
       "4492725  2021-11-01 00:02:27           Ellis Ave & 60th St     KA1503000014   \n",
       "4492726  2021-11-01 00:09:22         Ashland Ave & Lake St            13073   \n",
       "\n",
       "                     end_station_name end_station_id  start_lat  ...  \\\n",
       "0                Broadway & Barry Ave          300.0  41.937582  ...   \n",
       "1         Desplaines St & Randolph St           96.0  41.888716  ...   \n",
       "2        Sheridan Rd & Irving Park Rd          240.0  41.945529  ...   \n",
       "3           Franklin St & Chicago Ave           31.0  41.906758  ...   \n",
       "4           Franklin St & Chicago Ave           31.0  41.906695  ...   \n",
       "...                               ...            ...        ...  ...   \n",
       "4492722         Green St & Madison St   TA1307000120  41.881883  ...   \n",
       "4492723  Southport Ave & Clybourn Ave   TA1309000030  41.920761  ...   \n",
       "4492724       Damen Ave & Division St          13136  41.858236  ...   \n",
       "4492725      University Ave & 57th St   KA1503000071  41.785097  ...   \n",
       "4492726     Ashland Ave & Division St          13061  41.885894  ...   \n",
       "\n",
       "                    end_time      ride_length           start_date  week_day  \\\n",
       "0        2020-11-01 00:35:08  0 days 00:35:00  2020-11-01 00:00:00  Saturday   \n",
       "1        2020-11-01 00:02:20  0 days 00:02:06  2020-11-01 00:00:00  Saturday   \n",
       "2        2020-11-01 00:06:21  0 days 00:05:59  2020-11-01 00:00:00  Saturday   \n",
       "3        2020-11-01 00:04:45  0 days 00:03:53  2020-11-01 00:00:00  Saturday   \n",
       "4        2020-11-01 00:04:24  0 days 00:03:27  2020-11-01 00:00:00  Saturday   \n",
       "...                      ...              ...                  ...       ...   \n",
       "4492722  2021-10-31 23:58:43  0 days 00:02:24  2021-10-31 00:00:00  Saturday   \n",
       "4492723  2021-10-31 23:57:34  0 days 00:00:41  2021-10-31 00:00:00  Saturday   \n",
       "4492724  2021-11-01 00:16:09  0 days 00:18:40  2021-10-31 00:00:00  Saturday   \n",
       "4492725  2021-11-01 00:02:27  0 days 00:04:54  2021-10-31 00:00:00  Saturday   \n",
       "4492726  2021-11-01 00:09:22  0 days 00:11:07  2021-10-31 00:00:00  Saturday   \n",
       "\n",
       "                    x             y  distance  year month        ride_len  \n",
       "0        0.000000e+00  0.000000e+00  0.000000  2020    11 0 days 00:35:00  \n",
       "1        1.680845e-05  1.527323e-08  0.004102  2020    11 0 days 00:02:06  \n",
       "2        7.596866e-05  6.347309e-05  0.011809  2020    11 0 days 00:05:59  \n",
       "3        9.679280e-05  3.622034e-07  0.009857  2020    11 0 days 00:03:53  \n",
       "4        9.176363e-05  3.821300e-07  0.009599  2020    11 0 days 00:03:27  \n",
       "...               ...           ...       ...   ...   ...             ...  \n",
       "4492722  8.900278e-10  2.722500e-10  0.000034  2021    10 0 days 00:02:24  \n",
       "4492723  7.380278e-10  2.025000e-09  0.000053  2021    10 0 days 00:00:41  \n",
       "4492724  2.026665e-03  4.853282e-04  0.050120  2021    10 0 days 00:18:40  \n",
       "4492725  4.071529e-05  1.468364e-06  0.006495  2021    10 0 days 00:04:54  \n",
       "4492726  3.057485e-04  8.145062e-07  0.017509  2021    10 0 days 00:11:07  \n",
       "\n",
       "[4492727 rows x 25 columns]"
      ]
     },
     "execution_count": 23,
     "metadata": {},
     "output_type": "execute_result"
    }
   ],
   "source": [
    "# Printing the cleaned dataframe\n",
    "\n",
    "cleaned_file"
   ]
  },
  {
   "cell_type": "code",
   "execution_count": 24,
   "id": "9217bb7e",
   "metadata": {},
   "outputs": [
    {
     "data": {
      "text/plain": [
       "Unnamed: 0            0\n",
       "ride_id               0\n",
       "rideable_type         0\n",
       "started_at            0\n",
       "ended_at              0\n",
       "start_station_name    0\n",
       "start_station_id      0\n",
       "end_station_name      0\n",
       "end_station_id        0\n",
       "start_lat             0\n",
       "start_lng             0\n",
       "end_lat               0\n",
       "end_lng               0\n",
       "member_casual         0\n",
       "start_time            0\n",
       "end_time              0\n",
       "ride_length           0\n",
       "start_date            0\n",
       "week_day              0\n",
       "x                     0\n",
       "y                     0\n",
       "distance              0\n",
       "year                  0\n",
       "month                 0\n",
       "ride_len              0\n",
       "dtype: int64"
      ]
     },
     "execution_count": 24,
     "metadata": {},
     "output_type": "execute_result"
    }
   ],
   "source": [
    "# Checking if there are null values in dataframe\n",
    "\n",
    "cleaned_file.isnull().sum()"
   ]
  },
  {
   "cell_type": "code",
   "execution_count": 26,
   "id": "5cf8fdc4",
   "metadata": {},
   "outputs": [
    {
     "data": {
      "text/plain": [
       "False"
      ]
     },
     "execution_count": 26,
     "metadata": {},
     "output_type": "execute_result"
    }
   ],
   "source": [
    "# Checking if there are any duplicate values in dataframe\n",
    "\n",
    "cleaned_file.duplicated().any()"
   ]
  },
  {
   "cell_type": "markdown",
   "id": "9f1c5170",
   "metadata": {},
   "source": [
    "# ANALYSIS"
   ]
  },
  {
   "cell_type": "code",
   "execution_count": 27,
   "id": "6269fedf",
   "metadata": {},
   "outputs": [
    {
     "data": {
      "text/plain": [
       "Timedelta('0 days 00:20:17.621532089')"
      ]
     },
     "execution_count": 27,
     "metadata": {},
     "output_type": "execute_result"
    }
   ],
   "source": [
    "# Calculating mean of ride length of all types of users\n",
    "\n",
    "mean_ride_length = cleaned_file[\"ride_len\"].mean()\n",
    "mean_ride_length"
   ]
  },
  {
   "cell_type": "code",
   "execution_count": 28,
   "id": "f26a0cb1",
   "metadata": {},
   "outputs": [
    {
     "data": {
      "text/plain": [
       "Timedelta('38 days 20:24:09')"
      ]
     },
     "execution_count": 28,
     "metadata": {},
     "output_type": "execute_result"
    }
   ],
   "source": [
    "# Calculating the max ride_length of all types of users\n",
    "\n",
    "max_ride_length = cleaned_file[\"ride_len\"].max()\n",
    "max_ride_length"
   ]
  },
  {
   "cell_type": "code",
   "execution_count": 29,
   "id": "34f0bd05",
   "metadata": {},
   "outputs": [
    {
     "data": {
      "text/plain": [
       "Timedelta('0 days 00:10:27.838071229')"
      ]
     },
     "execution_count": 29,
     "metadata": {},
     "output_type": "execute_result"
    }
   ],
   "source": [
    "# Calculating mean ride length for member\n",
    "\n",
    "mean_ride_length_member = cleaned_file[cleaned_file[\"member_casual\"] == \"member\"]\n",
    "mean_ride_length_member = mean_ride_length_member[\"ride_len\"].mean()\n",
    "mean_ride_length_member"
   ]
  },
  {
   "cell_type": "code",
   "execution_count": 30,
   "id": "c309f399",
   "metadata": {},
   "outputs": [
    {
     "data": {
      "text/plain": [
       "Timedelta('0 days 00:32:12.541912738')"
      ]
     },
     "execution_count": 30,
     "metadata": {},
     "output_type": "execute_result"
    }
   ],
   "source": [
    "# Calculating mean ride length for casual riders\n",
    "\n",
    "mean_ride_length_casual = cleaned_file[cleaned_file[\"member_casual\"] == \"casual\"]\n",
    "mean_ride_length_casual = mean_ride_length_casual[\"ride_len\"].mean()\n",
    "mean_ride_length_casual"
   ]
  },
  {
   "cell_type": "code",
   "execution_count": 31,
   "id": "fc360fa4",
   "metadata": {},
   "outputs": [
    {
     "data": {
      "text/plain": [
       "Timedelta('1 days 00:59:56')"
      ]
     },
     "execution_count": 31,
     "metadata": {},
     "output_type": "execute_result"
    }
   ],
   "source": [
    "# Calculating max ride length for member\n",
    "\n",
    "max_ride_length_member = cleaned_file[cleaned_file[\"member_casual\"] == \"member\"]\n",
    "max_ride_length_member = max_ride_length_member[\"ride_len\"].max()\n",
    "max_ride_length_member"
   ]
  },
  {
   "cell_type": "code",
   "execution_count": 32,
   "id": "09a6a2fc",
   "metadata": {},
   "outputs": [
    {
     "data": {
      "text/plain": [
       "Timedelta('38 days 20:24:09')"
      ]
     },
     "execution_count": 32,
     "metadata": {},
     "output_type": "execute_result"
    }
   ],
   "source": [
    "# Calculating max ride length for casual riders\n",
    "\n",
    "max_ride_length_casual = cleaned_file[cleaned_file[\"member_casual\"] == \"casual\"]\n",
    "max_ride_length_casual = max_ride_length_casual[\"ride_len\"].max()\n",
    "max_ride_length_casual"
   ]
  },
  {
   "cell_type": "code",
   "execution_count": 33,
   "id": "380011ba",
   "metadata": {},
   "outputs": [
    {
     "data": {
      "text/plain": [
       "0    Friday\n",
       "dtype: object"
      ]
     },
     "execution_count": 33,
     "metadata": {},
     "output_type": "execute_result"
    }
   ],
   "source": [
    "# Calculating the mode of week_day for all types of users\n",
    "\n",
    "mode_week_day = cleaned_file[\"week_day\"].mode()\n",
    "mode_week_day"
   ]
  },
  {
   "cell_type": "code",
   "execution_count": 34,
   "id": "5744672a",
   "metadata": {},
   "outputs": [
    {
     "data": {
      "text/plain": [
       "0    Tuesday\n",
       "dtype: object"
      ]
     },
     "execution_count": 34,
     "metadata": {},
     "output_type": "execute_result"
    }
   ],
   "source": [
    "# Calculating mode of week_day for member\n",
    "\n",
    "mode_week_day_member = cleaned_file[cleaned_file[\"member_casual\"] == \"member\"]\n",
    "mode_week_day_member = mode_week_day_member[\"week_day\"].mode()\n",
    "mode_week_day_member"
   ]
  },
  {
   "cell_type": "code",
   "execution_count": 35,
   "id": "c93809e5",
   "metadata": {},
   "outputs": [
    {
     "data": {
      "text/plain": [
       "0    Friday\n",
       "dtype: object"
      ]
     },
     "execution_count": 35,
     "metadata": {},
     "output_type": "execute_result"
    }
   ],
   "source": [
    "# Calculating mode of week_day for casual\n",
    "\n",
    "mode_week_day_casual = cleaned_file[cleaned_file[\"member_casual\"] == \"casual\"]\n",
    "mode_week_day_casual = mode_week_day_casual[\"week_day\"].mode()\n",
    "mode_week_day_casual"
   ]
  },
  {
   "cell_type": "code",
   "execution_count": 36,
   "id": "b2d2151b",
   "metadata": {},
   "outputs": [
    {
     "data": {
      "text/plain": [
       "week_day\n",
       "0    559714\n",
       "1    578518\n",
       "2    592023\n",
       "3    581860\n",
       "4    643764\n",
       "5    822416\n",
       "6    714432\n",
       "Name: ride_id, dtype: int64"
      ]
     },
     "execution_count": 36,
     "metadata": {},
     "output_type": "execute_result"
    }
   ],
   "source": [
    "# Calculating the number of rides for users by week_day by adding Count of ride_id to Values\n",
    "\n",
    "dict1 = {\"Sunday\": 0, \"Monday\": 1, \"Tuesday\": 2, \"Wednesday\": 3, \"Thursday\": 4, \"Friday\":5, \"Saturday\": 6}\n",
    "cleaned_file['week_day'] = cleaned_file['week_day'].apply(lambda y: dict1[y])\n",
    "\n",
    "count_users_week_day = cleaned_file.groupby('week_day')['ride_id'].count()\n",
    "count_users_week_day = count_users_week_day.sort_index()\n",
    "count_users_week_day"
   ]
  },
  {
   "cell_type": "code",
   "execution_count": 37,
   "id": "4e7134ce",
   "metadata": {},
   "outputs": [
    {
     "data": {
      "text/plain": [
       "week_day\n",
       "0    333453\n",
       "1    367737\n",
       "2    378719\n",
       "3    360450\n",
       "4    356429\n",
       "5    354296\n",
       "6    310733\n",
       "Name: ride_id, dtype: int64"
      ]
     },
     "execution_count": 37,
     "metadata": {},
     "output_type": "execute_result"
    }
   ],
   "source": [
    "# Calculating the number of rides for member by week_day by adding Count of ride_id to Values\n",
    "\n",
    "count_member_week_day = cleaned_file[cleaned_file[\"member_casual\"] == \"member\"].groupby('week_day')['ride_id'].count()\n",
    "count_member_week_day"
   ]
  },
  {
   "cell_type": "code",
   "execution_count": 38,
   "id": "1fabcf6c",
   "metadata": {},
   "outputs": [
    {
     "data": {
      "text/plain": [
       "week_day\n",
       "0    226261\n",
       "1    210781\n",
       "2    213304\n",
       "3    221410\n",
       "4    287335\n",
       "5    468120\n",
       "6    403699\n",
       "Name: ride_id, dtype: int64"
      ]
     },
     "execution_count": 38,
     "metadata": {},
     "output_type": "execute_result"
    }
   ],
   "source": [
    "# Calculating the number of rides for casual by week_day by adding Count of ride_id to Values\n",
    "\n",
    "count_casual_week_day = cleaned_file[cleaned_file[\"member_casual\"] == \"casual\"].groupby('week_day')['ride_id'].count()\n",
    "count_casual_week_day"
   ]
  },
  {
   "cell_type": "code",
   "execution_count": 40,
   "id": "0a3f1793",
   "metadata": {},
   "outputs": [
    {
     "data": {
      "image/png": "[encoded data removed]",
      "text/plain": [
       "<Figure size 576x432 with 1 Axes>"
      ]
     },
     "metadata": {
      "needs_background": "light"
     },
     "output_type": "display_data"
    }
   ],
   "source": [
    "# Plotting graph of Weekday Vs Number Of Rides\n",
    "\n",
    "plt.figure(figsize = (8,6))\n",
    "plt.plot(count_users_week_day.index, count_users_week_day.values)\n",
    "plt.plot(count_member_week_day.index, count_member_week_day.values)\n",
    "plt.plot(count_casual_week_day.index, count_casual_week_day.values)\n",
    "plt.title(\"Number of rides for different users by week_day by adding Count of ride_id to Values\")\n",
    "plt.legend([\"user\", \"member\", \"casual\"])\n",
    "labels = [\"Sunday\", \"Monday\", \"Tuesday\", \"Wednesday\", \"Thursday\", \"Friday\", \"Saturday\"]\n",
    "plt.xticks(count_casual_week_day.index, labels)\n",
    "plt.show()"
   ]
  },
  {
   "cell_type": "code",
   "execution_count": 41,
   "id": "7dfc9b65",
   "metadata": {},
   "outputs": [
    {
     "data": {
      "text/plain": [
       "week_day\n",
       "0   0 days 00:21:03.282388862\n",
       "1   0 days 00:03:09.632998454\n",
       "2   0 days 00:18:26.189778099\n",
       "3   0 days 00:18:37.212972192\n",
       "4   0 days 00:21:15.004602618\n",
       "5   0 days 00:26:39.575874010\n",
       "6   0 days 00:28:16.995662288\n",
       "Name: ride_len, dtype: timedelta64[ns]"
      ]
     },
     "execution_count": 41,
     "metadata": {},
     "output_type": "execute_result"
    }
   ],
   "source": [
    "# Calculating the average ride_length for users by week_day\n",
    "\n",
    "user_avg_ride_len_week_day = cleaned_file.groupby(\"week_day\")['ride_len'].mean(numeric_only=False)\n",
    "user_avg_ride_len_week_day"
   ]
  },
  {
   "cell_type": "code",
   "execution_count": 42,
   "id": "3d957db1",
   "metadata": {},
   "outputs": [
    {
     "data": {
      "text/plain": [
       "week_day\n",
       "0     0 days 00:12:59.595475224\n",
       "1   -1 days +23:52:30.996464865\n",
       "2     0 days 00:12:43.644374853\n",
       "3     0 days 00:12:38.202549590\n",
       "4     0 days 00:13:04.869051059\n",
       "5     0 days 00:15:05.474696299\n",
       "6     0 days 00:15:25.947044568\n",
       "Name: ride_len, dtype: timedelta64[ns]"
      ]
     },
     "execution_count": 42,
     "metadata": {},
     "output_type": "execute_result"
    }
   ],
   "source": [
    "# Calculating the average ride_length for members by week_day\n",
    "\n",
    "member_avg_ride_len_week_day = cleaned_file[cleaned_file[\"member_casual\"] == \"member\"].groupby('week_day')['ride_len'].mean(numeric_only=False)\n",
    "member_avg_ride_len_week_day"
   ]
  },
  {
   "cell_type": "code",
   "execution_count": 43,
   "id": "8b227aa4",
   "metadata": {},
   "outputs": [
    {
     "data": {
      "text/plain": [
       "week_day\n",
       "0   0 days 00:32:56.117797587\n",
       "1   0 days 00:21:43.823949976\n",
       "2   0 days 00:28:34.375525072\n",
       "3   0 days 00:28:21.673054514\n",
       "4   0 days 00:31:23.000581203\n",
       "5   0 days 00:35:24.905428095\n",
       "6   0 days 00:38:10.483013334\n",
       "Name: ride_len, dtype: timedelta64[ns]"
      ]
     },
     "execution_count": 43,
     "metadata": {},
     "output_type": "execute_result"
    }
   ],
   "source": [
    "# Calculating the average ride_length for casual by week_day\n",
    "\n",
    "casual_avg_ride_len_week_day = cleaned_file[cleaned_file[\"member_casual\"] == \"casual\"].groupby('week_day')['ride_len'].mean(numeric_only=False)\n",
    "casual_avg_ride_len_week_day"
   ]
  },
  {
   "cell_type": "code",
   "execution_count": 45,
   "id": "c5e4148f",
   "metadata": {},
   "outputs": [
    {
     "data": {
      "image/png": "[encoded data removed]",
      "text/plain": [
       "<Figure size 432x288 with 1 Axes>"
      ]
     },
     "metadata": {
      "needs_background": "light"
     },
     "output_type": "display_data"
    }
   ],
   "source": [
    "# Plotting graph of Weekday Vs Average ride length\n",
    "\n",
    "plt.plot(user_avg_ride_len_week_day/pd.Timedelta(minutes=1))\n",
    "plt.plot(member_avg_ride_len_week_day/pd.Timedelta(minutes=1))\n",
    "plt.plot(casual_avg_ride_len_week_day/pd.Timedelta(minutes=1))\n",
    "plt.title(\"The average ride_length for different users by week_day\")\n",
    "plt.legend([\"user\", \"member\", \"casual\"])\n",
    "labels = [\"Sunday\", \"Monday\", \"Tuesday\", \"Wednesday\", \"Thursday\", \"Friday\", \"Saturday\"]\n",
    "plt.xticks(user_avg_ride_len_week_day.index, labels)\n",
    "plt.show()"
   ]
  },
  {
   "cell_type": "code",
   "execution_count": 46,
   "id": "aa9b5250",
   "metadata": {
    "scrolled": true
   },
   "outputs": [
    {
     "data": {
      "text/html": [
       "<div>\n",
       "<style scoped>\n",
       "    .dataframe tbody tr th:only-of-type {\n",
       "        vertical-align: middle;\n",
       "    }\n",
       "\n",
       "    .dataframe tbody tr th {\n",
       "        vertical-align: top;\n",
       "    }\n",
       "\n",
       "    .dataframe thead th {\n",
       "        text-align: right;\n",
       "    }\n",
       "</style>\n",
       "<table border=\"1\" class=\"dataframe\">\n",
       "  <thead>\n",
       "    <tr style=\"text-align: right;\">\n",
       "      <th></th>\n",
       "      <th>Unnamed: 0</th>\n",
       "      <th>ride_id</th>\n",
       "      <th>rideable_type</th>\n",
       "      <th>started_at</th>\n",
       "      <th>ended_at</th>\n",
       "      <th>start_station_name</th>\n",
       "      <th>start_station_id</th>\n",
       "      <th>end_station_name</th>\n",
       "      <th>end_station_id</th>\n",
       "      <th>start_lat</th>\n",
       "      <th>...</th>\n",
       "      <th>end_time</th>\n",
       "      <th>ride_length</th>\n",
       "      <th>start_date</th>\n",
       "      <th>week_day</th>\n",
       "      <th>x</th>\n",
       "      <th>y</th>\n",
       "      <th>distance</th>\n",
       "      <th>year</th>\n",
       "      <th>month</th>\n",
       "      <th>ride_len</th>\n",
       "    </tr>\n",
       "  </thead>\n",
       "  <tbody>\n",
       "    <tr>\n",
       "      <th>0</th>\n",
       "      <td>200181</td>\n",
       "      <td>D0C1A65AFC859916</td>\n",
       "      <td>docked_bike</td>\n",
       "      <td>2020-11-01 00:00:08</td>\n",
       "      <td>2020-11-01 00:35:08</td>\n",
       "      <td>Broadway &amp; Barry Ave</td>\n",
       "      <td>300.0</td>\n",
       "      <td>Broadway &amp; Barry Ave</td>\n",
       "      <td>300.0</td>\n",
       "      <td>41.937582</td>\n",
       "      <td>...</td>\n",
       "      <td>2020-11-01 00:35:08</td>\n",
       "      <td>0 days 00:35:00</td>\n",
       "      <td>2020-11-01 00:00:00</td>\n",
       "      <td>6</td>\n",
       "      <td>0.000000e+00</td>\n",
       "      <td>0.000000e+00</td>\n",
       "      <td>0.000000</td>\n",
       "      <td>2020</td>\n",
       "      <td>11</td>\n",
       "      <td>0 days 00:35:00</td>\n",
       "    </tr>\n",
       "    <tr>\n",
       "      <th>1</th>\n",
       "      <td>75236</td>\n",
       "      <td>985AD418D8ED316C</td>\n",
       "      <td>docked_bike</td>\n",
       "      <td>2020-11-01 00:00:14</td>\n",
       "      <td>2020-11-01 00:02:20</td>\n",
       "      <td>Desplaines St &amp; Kinzie St</td>\n",
       "      <td>56.0</td>\n",
       "      <td>Desplaines St &amp; Randolph St</td>\n",
       "      <td>96.0</td>\n",
       "      <td>41.888716</td>\n",
       "      <td>...</td>\n",
       "      <td>2020-11-01 00:02:20</td>\n",
       "      <td>0 days 00:02:06</td>\n",
       "      <td>2020-11-01 00:00:00</td>\n",
       "      <td>6</td>\n",
       "      <td>1.680845e-05</td>\n",
       "      <td>1.527323e-08</td>\n",
       "      <td>0.004102</td>\n",
       "      <td>2020</td>\n",
       "      <td>11</td>\n",
       "      <td>0 days 00:02:06</td>\n",
       "    </tr>\n",
       "    <tr>\n",
       "      <th>2</th>\n",
       "      <td>113167</td>\n",
       "      <td>AB459A840CF1BBF8</td>\n",
       "      <td>docked_bike</td>\n",
       "      <td>2020-11-01 00:00:22</td>\n",
       "      <td>2020-11-01 00:06:21</td>\n",
       "      <td>Broadway &amp; Cornelia Ave</td>\n",
       "      <td>303.0</td>\n",
       "      <td>Sheridan Rd &amp; Irving Park Rd</td>\n",
       "      <td>240.0</td>\n",
       "      <td>41.945529</td>\n",
       "      <td>...</td>\n",
       "      <td>2020-11-01 00:06:21</td>\n",
       "      <td>0 days 00:05:59</td>\n",
       "      <td>2020-11-01 00:00:00</td>\n",
       "      <td>6</td>\n",
       "      <td>7.596866e-05</td>\n",
       "      <td>6.347309e-05</td>\n",
       "      <td>0.011809</td>\n",
       "      <td>2020</td>\n",
       "      <td>11</td>\n",
       "      <td>0 days 00:05:59</td>\n",
       "    </tr>\n",
       "    <tr>\n",
       "      <th>3</th>\n",
       "      <td>16234</td>\n",
       "      <td>5239202FF2A38305</td>\n",
       "      <td>electric_bike</td>\n",
       "      <td>2020-11-01 00:00:52</td>\n",
       "      <td>2020-11-01 00:04:45</td>\n",
       "      <td>Wells St &amp; Evergreen Ave</td>\n",
       "      <td>291.0</td>\n",
       "      <td>Franklin St &amp; Chicago Ave</td>\n",
       "      <td>31.0</td>\n",
       "      <td>41.906758</td>\n",
       "      <td>...</td>\n",
       "      <td>2020-11-01 00:04:45</td>\n",
       "      <td>0 days 00:03:53</td>\n",
       "      <td>2020-11-01 00:00:00</td>\n",
       "      <td>6</td>\n",
       "      <td>9.679280e-05</td>\n",
       "      <td>3.622034e-07</td>\n",
       "      <td>0.009857</td>\n",
       "      <td>2020</td>\n",
       "      <td>11</td>\n",
       "      <td>0 days 00:03:53</td>\n",
       "    </tr>\n",
       "    <tr>\n",
       "      <th>4</th>\n",
       "      <td>142827</td>\n",
       "      <td>587849ED1D5F0CBA</td>\n",
       "      <td>electric_bike</td>\n",
       "      <td>2020-11-01 00:00:57</td>\n",
       "      <td>2020-11-01 00:04:24</td>\n",
       "      <td>Wells St &amp; Evergreen Ave</td>\n",
       "      <td>291.0</td>\n",
       "      <td>Franklin St &amp; Chicago Ave</td>\n",
       "      <td>31.0</td>\n",
       "      <td>41.906695</td>\n",
       "      <td>...</td>\n",
       "      <td>2020-11-01 00:04:24</td>\n",
       "      <td>0 days 00:03:27</td>\n",
       "      <td>2020-11-01 00:00:00</td>\n",
       "      <td>6</td>\n",
       "      <td>9.176363e-05</td>\n",
       "      <td>3.821300e-07</td>\n",
       "      <td>0.009599</td>\n",
       "      <td>2020</td>\n",
       "      <td>11</td>\n",
       "      <td>0 days 00:03:27</td>\n",
       "    </tr>\n",
       "    <tr>\n",
       "      <th>...</th>\n",
       "      <td>...</td>\n",
       "      <td>...</td>\n",
       "      <td>...</td>\n",
       "      <td>...</td>\n",
       "      <td>...</td>\n",
       "      <td>...</td>\n",
       "      <td>...</td>\n",
       "      <td>...</td>\n",
       "      <td>...</td>\n",
       "      <td>...</td>\n",
       "      <td>...</td>\n",
       "      <td>...</td>\n",
       "      <td>...</td>\n",
       "      <td>...</td>\n",
       "      <td>...</td>\n",
       "      <td>...</td>\n",
       "      <td>...</td>\n",
       "      <td>...</td>\n",
       "      <td>...</td>\n",
       "      <td>...</td>\n",
       "      <td>...</td>\n",
       "    </tr>\n",
       "    <tr>\n",
       "      <th>4492722</th>\n",
       "      <td>347529</td>\n",
       "      <td>A1E4C6EFCB4FC31A</td>\n",
       "      <td>electric_bike</td>\n",
       "      <td>2021-10-31 23:56:19</td>\n",
       "      <td>2021-10-31 23:58:43</td>\n",
       "      <td>Green St &amp; Madison St</td>\n",
       "      <td>TA1307000120</td>\n",
       "      <td>Green St &amp; Madison St</td>\n",
       "      <td>TA1307000120</td>\n",
       "      <td>41.881883</td>\n",
       "      <td>...</td>\n",
       "      <td>2021-10-31 23:58:43</td>\n",
       "      <td>0 days 00:02:24</td>\n",
       "      <td>2021-10-31 00:00:00</td>\n",
       "      <td>6</td>\n",
       "      <td>8.900278e-10</td>\n",
       "      <td>2.722500e-10</td>\n",
       "      <td>0.000034</td>\n",
       "      <td>2021</td>\n",
       "      <td>10</td>\n",
       "      <td>0 days 00:02:24</td>\n",
       "    </tr>\n",
       "    <tr>\n",
       "      <th>4492723</th>\n",
       "      <td>355247</td>\n",
       "      <td>CBE12A4C090145C2</td>\n",
       "      <td>electric_bike</td>\n",
       "      <td>2021-10-31 23:56:53</td>\n",
       "      <td>2021-10-31 23:57:34</td>\n",
       "      <td>Southport Ave &amp; Clybourn Ave</td>\n",
       "      <td>TA1309000030</td>\n",
       "      <td>Southport Ave &amp; Clybourn Ave</td>\n",
       "      <td>TA1309000030</td>\n",
       "      <td>41.920761</td>\n",
       "      <td>...</td>\n",
       "      <td>2021-10-31 23:57:34</td>\n",
       "      <td>0 days 00:00:41</td>\n",
       "      <td>2021-10-31 00:00:00</td>\n",
       "      <td>6</td>\n",
       "      <td>7.380278e-10</td>\n",
       "      <td>2.025000e-09</td>\n",
       "      <td>0.000053</td>\n",
       "      <td>2021</td>\n",
       "      <td>10</td>\n",
       "      <td>0 days 00:00:41</td>\n",
       "    </tr>\n",
       "    <tr>\n",
       "      <th>4492724</th>\n",
       "      <td>282413</td>\n",
       "      <td>8879093FD05F3103</td>\n",
       "      <td>electric_bike</td>\n",
       "      <td>2021-10-31 23:57:29</td>\n",
       "      <td>2021-11-01 00:16:09</td>\n",
       "      <td>Racine Ave &amp; 18th St</td>\n",
       "      <td>13164</td>\n",
       "      <td>Damen Ave &amp; Division St</td>\n",
       "      <td>13136</td>\n",
       "      <td>41.858236</td>\n",
       "      <td>...</td>\n",
       "      <td>2021-11-01 00:16:09</td>\n",
       "      <td>0 days 00:18:40</td>\n",
       "      <td>2021-10-31 00:00:00</td>\n",
       "      <td>6</td>\n",
       "      <td>2.026665e-03</td>\n",
       "      <td>4.853282e-04</td>\n",
       "      <td>0.050120</td>\n",
       "      <td>2021</td>\n",
       "      <td>10</td>\n",
       "      <td>0 days 00:18:40</td>\n",
       "    </tr>\n",
       "    <tr>\n",
       "      <th>4492725</th>\n",
       "      <td>192232</td>\n",
       "      <td>F4562744AE0DA40F</td>\n",
       "      <td>classic_bike</td>\n",
       "      <td>2021-10-31 23:57:33</td>\n",
       "      <td>2021-11-01 00:02:27</td>\n",
       "      <td>Ellis Ave &amp; 60th St</td>\n",
       "      <td>KA1503000014</td>\n",
       "      <td>University Ave &amp; 57th St</td>\n",
       "      <td>KA1503000071</td>\n",
       "      <td>41.785097</td>\n",
       "      <td>...</td>\n",
       "      <td>2021-11-01 00:02:27</td>\n",
       "      <td>0 days 00:04:54</td>\n",
       "      <td>2021-10-31 00:00:00</td>\n",
       "      <td>6</td>\n",
       "      <td>4.071529e-05</td>\n",
       "      <td>1.468364e-06</td>\n",
       "      <td>0.006495</td>\n",
       "      <td>2021</td>\n",
       "      <td>10</td>\n",
       "      <td>0 days 00:04:54</td>\n",
       "    </tr>\n",
       "    <tr>\n",
       "      <th>4492726</th>\n",
       "      <td>78885</td>\n",
       "      <td>BA8AC6004C2E7F9A</td>\n",
       "      <td>electric_bike</td>\n",
       "      <td>2021-10-31 23:58:15</td>\n",
       "      <td>2021-11-01 00:09:22</td>\n",
       "      <td>Ashland Ave &amp; Lake St</td>\n",
       "      <td>13073</td>\n",
       "      <td>Ashland Ave &amp; Division St</td>\n",
       "      <td>13061</td>\n",
       "      <td>41.885894</td>\n",
       "      <td>...</td>\n",
       "      <td>2021-11-01 00:09:22</td>\n",
       "      <td>0 days 00:11:07</td>\n",
       "      <td>2021-10-31 00:00:00</td>\n",
       "      <td>6</td>\n",
       "      <td>3.057485e-04</td>\n",
       "      <td>8.145062e-07</td>\n",
       "      <td>0.017509</td>\n",
       "      <td>2021</td>\n",
       "      <td>10</td>\n",
       "      <td>0 days 00:11:07</td>\n",
       "    </tr>\n",
       "  </tbody>\n",
       "</table>\n",
       "<p>4492727 rows × 25 columns</p>\n",
       "</div>"
      ],
      "text/plain": [
       "         Unnamed: 0           ride_id  rideable_type           started_at  \\\n",
       "0            200181  D0C1A65AFC859916    docked_bike  2020-11-01 00:00:08   \n",
       "1             75236  985AD418D8ED316C    docked_bike  2020-11-01 00:00:14   \n",
       "2            113167  AB459A840CF1BBF8    docked_bike  2020-11-01 00:00:22   \n",
       "3             16234  5239202FF2A38305  electric_bike  2020-11-01 00:00:52   \n",
       "4            142827  587849ED1D5F0CBA  electric_bike  2020-11-01 00:00:57   \n",
       "...             ...               ...            ...                  ...   \n",
       "4492722      347529  A1E4C6EFCB4FC31A  electric_bike  2021-10-31 23:56:19   \n",
       "4492723      355247  CBE12A4C090145C2  electric_bike  2021-10-31 23:56:53   \n",
       "4492724      282413  8879093FD05F3103  electric_bike  2021-10-31 23:57:29   \n",
       "4492725      192232  F4562744AE0DA40F   classic_bike  2021-10-31 23:57:33   \n",
       "4492726       78885  BA8AC6004C2E7F9A  electric_bike  2021-10-31 23:58:15   \n",
       "\n",
       "                    ended_at            start_station_name start_station_id  \\\n",
       "0        2020-11-01 00:35:08          Broadway & Barry Ave            300.0   \n",
       "1        2020-11-01 00:02:20     Desplaines St & Kinzie St             56.0   \n",
       "2        2020-11-01 00:06:21       Broadway & Cornelia Ave            303.0   \n",
       "3        2020-11-01 00:04:45      Wells St & Evergreen Ave            291.0   \n",
       "4        2020-11-01 00:04:24      Wells St & Evergreen Ave            291.0   \n",
       "...                      ...                           ...              ...   \n",
       "4492722  2021-10-31 23:58:43         Green St & Madison St     TA1307000120   \n",
       "4492723  2021-10-31 23:57:34  Southport Ave & Clybourn Ave     TA1309000030   \n",
       "4492724  2021-11-01 00:16:09          Racine Ave & 18th St            13164   \n",
       "4492725  2021-11-01 00:02:27           Ellis Ave & 60th St     KA1503000014   \n",
       "4492726  2021-11-01 00:09:22         Ashland Ave & Lake St            13073   \n",
       "\n",
       "                     end_station_name end_station_id  start_lat  ...  \\\n",
       "0                Broadway & Barry Ave          300.0  41.937582  ...   \n",
       "1         Desplaines St & Randolph St           96.0  41.888716  ...   \n",
       "2        Sheridan Rd & Irving Park Rd          240.0  41.945529  ...   \n",
       "3           Franklin St & Chicago Ave           31.0  41.906758  ...   \n",
       "4           Franklin St & Chicago Ave           31.0  41.906695  ...   \n",
       "...                               ...            ...        ...  ...   \n",
       "4492722         Green St & Madison St   TA1307000120  41.881883  ...   \n",
       "4492723  Southport Ave & Clybourn Ave   TA1309000030  41.920761  ...   \n",
       "4492724       Damen Ave & Division St          13136  41.858236  ...   \n",
       "4492725      University Ave & 57th St   KA1503000071  41.785097  ...   \n",
       "4492726     Ashland Ave & Division St          13061  41.885894  ...   \n",
       "\n",
       "                    end_time      ride_length           start_date week_day  \\\n",
       "0        2020-11-01 00:35:08  0 days 00:35:00  2020-11-01 00:00:00        6   \n",
       "1        2020-11-01 00:02:20  0 days 00:02:06  2020-11-01 00:00:00        6   \n",
       "2        2020-11-01 00:06:21  0 days 00:05:59  2020-11-01 00:00:00        6   \n",
       "3        2020-11-01 00:04:45  0 days 00:03:53  2020-11-01 00:00:00        6   \n",
       "4        2020-11-01 00:04:24  0 days 00:03:27  2020-11-01 00:00:00        6   \n",
       "...                      ...              ...                  ...      ...   \n",
       "4492722  2021-10-31 23:58:43  0 days 00:02:24  2021-10-31 00:00:00        6   \n",
       "4492723  2021-10-31 23:57:34  0 days 00:00:41  2021-10-31 00:00:00        6   \n",
       "4492724  2021-11-01 00:16:09  0 days 00:18:40  2021-10-31 00:00:00        6   \n",
       "4492725  2021-11-01 00:02:27  0 days 00:04:54  2021-10-31 00:00:00        6   \n",
       "4492726  2021-11-01 00:09:22  0 days 00:11:07  2021-10-31 00:00:00        6   \n",
       "\n",
       "                    x             y  distance  year  month        ride_len  \n",
       "0        0.000000e+00  0.000000e+00  0.000000  2020     11 0 days 00:35:00  \n",
       "1        1.680845e-05  1.527323e-08  0.004102  2020     11 0 days 00:02:06  \n",
       "2        7.596866e-05  6.347309e-05  0.011809  2020     11 0 days 00:05:59  \n",
       "3        9.679280e-05  3.622034e-07  0.009857  2020     11 0 days 00:03:53  \n",
       "4        9.176363e-05  3.821300e-07  0.009599  2020     11 0 days 00:03:27  \n",
       "...               ...           ...       ...   ...    ...             ...  \n",
       "4492722  8.900278e-10  2.722500e-10  0.000034  2021     10 0 days 00:02:24  \n",
       "4492723  7.380278e-10  2.025000e-09  0.000053  2021     10 0 days 00:00:41  \n",
       "4492724  2.026665e-03  4.853282e-04  0.050120  2021     10 0 days 00:18:40  \n",
       "4492725  4.071529e-05  1.468364e-06  0.006495  2021     10 0 days 00:04:54  \n",
       "4492726  3.057485e-04  8.145062e-07  0.017509  2021     10 0 days 00:11:07  \n",
       "\n",
       "[4492727 rows x 25 columns]"
      ]
     },
     "execution_count": 46,
     "metadata": {},
     "output_type": "execute_result"
    }
   ],
   "source": [
    "cleaned_file"
   ]
  },
  {
   "cell_type": "code",
   "execution_count": 47,
   "id": "325d94f3",
   "metadata": {},
   "outputs": [],
   "source": [
    "# Extracting important features of the dataframe into a new dataframe\n",
    "\n",
    "final_file = cleaned_file[[\"ride_id\", \"rideable_type\", \"ride_len\", \"week_day\", \"distance\", \"year\", \"month\", \"member_casual\"]]"
   ]
  },
  {
   "cell_type": "code",
   "execution_count": 48,
   "id": "6aff17e4",
   "metadata": {},
   "outputs": [
    {
     "name": "stdout",
     "output_type": "stream",
     "text": [
      "<class 'pandas.core.frame.DataFrame'>\n",
      "RangeIndex: 4492727 entries, 0 to 4492726\n",
      "Data columns (total 8 columns):\n",
      " #   Column         Dtype          \n",
      "---  ------         -----          \n",
      " 0   ride_id        object         \n",
      " 1   rideable_type  object         \n",
      " 2   ride_len       timedelta64[ns]\n",
      " 3   week_day       int64          \n",
      " 4   distance       float64        \n",
      " 5   year           int64          \n",
      " 6   month          int64          \n",
      " 7   member_casual  object         \n",
      "dtypes: float64(1), int64(3), object(3), timedelta64[ns](1)\n",
      "memory usage: 274.2+ MB\n"
     ]
    }
   ],
   "source": [
    "# Getting the information of the dataframe\n",
    "\n",
    "final_file.info()"
   ]
  },
  {
   "cell_type": "markdown",
   "id": "6c4872bd",
   "metadata": {},
   "source": [
    "# VISUALIZATION"
   ]
  },
  {
   "cell_type": "code",
   "execution_count": 49,
   "id": "a644aeee",
   "metadata": {},
   "outputs": [
    {
     "data": {
      "text/plain": [
       "member    2461817\n",
       "casual    2030910\n",
       "Name: member_casual, dtype: int64"
      ]
     },
     "execution_count": 49,
     "metadata": {},
     "output_type": "execute_result"
    }
   ],
   "source": [
    "# Checking the number of users in each type over past 12 months\n",
    "\n",
    "member_type = final_file[\"member_casual\"].value_counts()\n",
    "member_type"
   ]
  },
  {
   "cell_type": "code",
   "execution_count": 50,
   "id": "2d591eba",
   "metadata": {},
   "outputs": [
    {
     "data": {
      "image/png": "[encoded data removed]",
      "text/plain": [
       "<Figure size 576x432 with 1 Axes>"
      ]
     },
     "metadata": {},
     "output_type": "display_data"
    }
   ],
   "source": [
    "# Plotting the pie chart of users in each type\n",
    "\n",
    "plt.figure(figsize = (8,6))\n",
    "plt.pie(member_type.values, labels = member_type.index, autopct='%1.1f%%')\n",
    "plt.title(\"Percentage of users in each type\")\n",
    "plt.legend(member_type.index)\n",
    "plt.show()"
   ]
  },
  {
   "cell_type": "code",
   "execution_count": 51,
   "id": "588cb59b",
   "metadata": {},
   "outputs": [
    {
     "data": {
      "text/plain": [
       "year  member_casual\n",
       "2020  member            239115\n",
       "      casual             97585\n",
       "2021  member           2222702\n",
       "      casual           1933325\n",
       "Name: member_casual, dtype: int64"
      ]
     },
     "execution_count": 51,
     "metadata": {},
     "output_type": "execute_result"
    }
   ],
   "source": [
    "# Checking the number of users over years\n",
    "\n",
    "users_over_year = final_file.groupby('year')['member_casual'].value_counts()\n",
    "users_over_year"
   ]
  },
  {
   "cell_type": "code",
   "execution_count": 52,
   "id": "9a9b2e1f",
   "metadata": {},
   "outputs": [],
   "source": [
    "# Segregating the number of users into member or casual riders over the years\n",
    "\n",
    "list_year = []\n",
    "list_x = []\n",
    "list_y = list(users_over_year.values)\n",
    "for i, j in users_over_year.index:\n",
    "  list_x.append(j)\n",
    "  list_year.append(str(i))"
   ]
  },
  {
   "cell_type": "code",
   "execution_count": 53,
   "id": "d92523b1",
   "metadata": {},
   "outputs": [
    {
     "name": "stderr",
     "output_type": "stream",
     "text": [
      "C:\\Users\\91810\\anaconda3\\lib\\site-packages\\seaborn\\_decorators.py:36: FutureWarning: Pass the following variables as keyword args: x, y. From version 0.12, the only valid positional argument will be `data`, and passing other arguments without an explicit keyword will result in an error or misinterpretation.\n",
      "  warnings.warn(\n"
     ]
    },
    {
     "data": {
      "text/plain": [
       "Text(0.5, 1.0, 'Count of Member and Casual Riders over the years')"
      ]
     },
     "execution_count": 53,
     "metadata": {},
     "output_type": "execute_result"
    },
    {
     "data": {
      "image/png": "[encoded data removed]",
      "text/plain": [
       "<Figure size 432x288 with 1 Axes>"
      ]
     },
     "metadata": {
      "needs_background": "light"
     },
     "output_type": "display_data"
    }
   ],
   "source": [
    "sns.barplot(list_x, list_y, hue = list_year)\n",
    "plt.title(\"Count of Member and Casual Riders over the years\")"
   ]
  },
  {
   "cell_type": "code",
   "execution_count": 54,
   "id": "11d68bd8",
   "metadata": {},
   "outputs": [
    {
     "data": {
      "text/plain": [
       "month  member_casual\n",
       "1      member            68819\n",
       "       casual            14690\n",
       "2      member            34383\n",
       "       casual             8613\n",
       "3      member           130049\n",
       "       casual            75642\n",
       "4      member           177787\n",
       "       casual           120420\n",
       "5      member           234165\n",
       "       casual           216829\n",
       "6      member           304586\n",
       "       casual           304192\n",
       "7      casual           369415\n",
       "       member           322906\n",
       "8      casual           341476\n",
       "       member           332933\n",
       "9      member           328219\n",
       "       casual           292931\n",
       "10     member           288855\n",
       "       casual           189117\n",
       "11     member           149756\n",
       "       casual            73033\n",
       "12     member            89359\n",
       "       casual            24552\n",
       "Name: member_casual, dtype: int64"
      ]
     },
     "execution_count": 54,
     "metadata": {},
     "output_type": "execute_result"
    }
   ],
   "source": [
    "# Checking the number of users over months\n",
    "\n",
    "users_over_month = final_file.groupby('month')['member_casual'].value_counts()\n",
    "users_over_month"
   ]
  },
  {
   "cell_type": "code",
   "execution_count": 55,
   "id": "42bb4c41",
   "metadata": {},
   "outputs": [],
   "source": [
    "# Segregating the number of users into member or casual riders over the months\n",
    "\n",
    "list_month = []\n",
    "list_x = []\n",
    "list_y = list(users_over_month.values)\n",
    "for i, j in users_over_month.index:\n",
    "  list_x.append(j)\n",
    "  list_month.append(str(i))"
   ]
  },
  {
   "cell_type": "code",
   "execution_count": 56,
   "id": "be749099",
   "metadata": {},
   "outputs": [
    {
     "name": "stderr",
     "output_type": "stream",
     "text": [
      "C:\\Users\\91810\\anaconda3\\lib\\site-packages\\seaborn\\_decorators.py:36: FutureWarning: Pass the following variables as keyword args: x, y. From version 0.12, the only valid positional argument will be `data`, and passing other arguments without an explicit keyword will result in an error or misinterpretation.\n",
      "  warnings.warn(\n"
     ]
    },
    {
     "data": {
      "text/plain": [
       "Text(0.5, 1.0, 'Count of Member and Casual Riders over the months')"
      ]
     },
     "execution_count": 56,
     "metadata": {},
     "output_type": "execute_result"
    },
    {
     "data": {
      "image/png": "[encoded data removed]",
      "text/plain": [
       "<Figure size 1296x576 with 1 Axes>"
      ]
     },
     "metadata": {
      "needs_background": "light"
     },
     "output_type": "display_data"
    }
   ],
   "source": [
    "# Plotting count of Member and Casual Riders over the months\n",
    "\n",
    "plt.figure(figsize = (18,8))\n",
    "sns.barplot(list_x, list_y, hue = list_month)\n",
    "plt.title(\"Count of Member and Casual Riders over the months\")"
   ]
  },
  {
   "cell_type": "code",
   "execution_count": 57,
   "id": "87954557",
   "metadata": {},
   "outputs": [
    {
     "data": {
      "text/plain": [
       "member_casual  rideable_type\n",
       "casual         classic_bike     1221422\n",
       "               electric_bike     458999\n",
       "               docked_bike       350489\n",
       "member         classic_bike     1837067\n",
       "               electric_bike     511364\n",
       "               docked_bike       113386\n",
       "Name: rideable_type, dtype: int64"
      ]
     },
     "execution_count": 57,
     "metadata": {},
     "output_type": "execute_result"
    }
   ],
   "source": [
    "# Checking the number of users for a particulat rideable_type\n",
    "\n",
    "ride_type = final_file.groupby(\"member_casual\")[\"rideable_type\"].value_counts()\n",
    "ride_type"
   ]
  },
  {
   "cell_type": "code",
   "execution_count": 58,
   "id": "db7b779d",
   "metadata": {},
   "outputs": [],
   "source": [
    "# Segregating the number of users into member or casual riders based on ride type\n",
    "\n",
    "list_member = []\n",
    "list_x = []\n",
    "list_y = list(ride_type.values)\n",
    "for i, j in ride_type.index:\n",
    "  list_x.append(j)\n",
    "  list_member.append(str(i))"
   ]
  },
  {
   "cell_type": "code",
   "execution_count": 59,
   "id": "65c5995d",
   "metadata": {},
   "outputs": [
    {
     "name": "stderr",
     "output_type": "stream",
     "text": [
      "C:\\Users\\91810\\anaconda3\\lib\\site-packages\\seaborn\\_decorators.py:36: FutureWarning: Pass the following variables as keyword args: x, y. From version 0.12, the only valid positional argument will be `data`, and passing other arguments without an explicit keyword will result in an error or misinterpretation.\n",
      "  warnings.warn(\n"
     ]
    },
    {
     "data": {
      "text/plain": [
       "Text(0.5, 1.0, 'Count of Member and Casual Riders over the months')"
      ]
     },
     "execution_count": 59,
     "metadata": {},
     "output_type": "execute_result"
    },
    {
     "data": {
      "image/png": "[encoded data removed]",
      "text/plain": [
       "<Figure size 1296x576 with 1 Axes>"
      ]
     },
     "metadata": {
      "needs_background": "light"
     },
     "output_type": "display_data"
    }
   ],
   "source": [
    "# Plotting number of users into member or casual riders based on ride type\n",
    "\n",
    "plt.figure(figsize = (18,8))\n",
    "sns.barplot(list_x, list_y, hue = list_member)\n",
    "plt.title(\"Count of Member and Casual Riders over the months\")"
   ]
  },
  {
   "cell_type": "markdown",
   "id": "808286cc",
   "metadata": {},
   "source": [
    "# CONCLUSION"
   ]
  },
  {
   "cell_type": "markdown",
   "id": "02ad43f4",
   "metadata": {},
   "source": [
    "1. The number of casual riders is approximately equal to the number of annual members. The 54.8% of total population are annual membership holders.\n",
    "\n",
    "2. It has also been observed that the count of both annual and casual riders have increased in the year 2021.\n",
    "\n",
    "3. The count of people using the services starts dropping in the month of November till February and then it again starts increasing.\n",
    "\n",
    "4. The number of rides are maximum on weekends for casual riders. Thus, Marketing could begin on weekends."
   ]
  },
  {
   "cell_type": "code",
   "execution_count": null,
   "id": "cce66032",
   "metadata": {},
   "outputs": [],
   "source": []
  }
 ],
 "metadata": {
  "kernelspec": {
   "display_name": "Python 3 (ipykernel)",
   "language": "python",
   "name": "python3"
  },
  "language_info": {
   "codemirror_mode": {
    "name": "ipython",
    "version": 3
   },
   "file_extension": ".py",
   "mimetype": "text/x-python",
   "name": "python",
   "nbconvert_exporter": "python",
   "pygments_lexer": "ipython3",
   "version": "3.9.7"
  }
 },
 "nbformat": 4,
 "nbformat_minor": 5
}
